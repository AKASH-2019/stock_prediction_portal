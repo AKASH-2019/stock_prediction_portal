{
 "cells": [
  {
   "cell_type": "code",
   "execution_count": 1,
   "id": "d9a680e9-5b8d-46ee-8b73-ef78056f4d69",
   "metadata": {},
   "outputs": [],
   "source": [
    "import numpy as np\n",
    "import pandas as pd\n",
    "import matplotlib.pyplot as plt\n",
    "import yfinance as yf\n",
    "from datetime import datetime"
   ]
  },
  {
   "cell_type": "code",
   "execution_count": null,
   "id": "c34974b3-7573-43bd-b715-c9085ea5002d",
   "metadata": {},
   "outputs": [],
   "source": []
  },
  {
   "cell_type": "markdown",
   "id": "6a50c3ca-1ff6-4974-a9e2-08310ded89ed",
   "metadata": {},
   "source": [
    "# 1. Data Collection"
   ]
  },
  {
   "cell_type": "code",
   "execution_count": 2,
   "id": "526d13af-db07-4f43-b47e-dad3a6f9504f",
   "metadata": {},
   "outputs": [
    {
     "name": "stdout",
     "output_type": "stream",
     "text": [
      "YF.download() has changed argument auto_adjust default to True\n"
     ]
    },
    {
     "name": "stderr",
     "output_type": "stream",
     "text": [
      "[*********************100%***********************]  1 of 1 completed\n"
     ]
    },
    {
     "data": {
      "text/html": [
       "<div>\n",
       "<style scoped>\n",
       "    .dataframe tbody tr th:only-of-type {\n",
       "        vertical-align: middle;\n",
       "    }\n",
       "\n",
       "    .dataframe tbody tr th {\n",
       "        vertical-align: top;\n",
       "    }\n",
       "\n",
       "    .dataframe thead tr th {\n",
       "        text-align: left;\n",
       "    }\n",
       "\n",
       "    .dataframe thead tr:last-of-type th {\n",
       "        text-align: right;\n",
       "    }\n",
       "</style>\n",
       "<table border=\"1\" class=\"dataframe\">\n",
       "  <thead>\n",
       "    <tr>\n",
       "      <th>Price</th>\n",
       "      <th>Close</th>\n",
       "      <th>High</th>\n",
       "      <th>Low</th>\n",
       "      <th>Open</th>\n",
       "      <th>Volume</th>\n",
       "    </tr>\n",
       "    <tr>\n",
       "      <th>Ticker</th>\n",
       "      <th>AAPL</th>\n",
       "      <th>AAPL</th>\n",
       "      <th>AAPL</th>\n",
       "      <th>AAPL</th>\n",
       "      <th>AAPL</th>\n",
       "    </tr>\n",
       "    <tr>\n",
       "      <th>Date</th>\n",
       "      <th></th>\n",
       "      <th></th>\n",
       "      <th></th>\n",
       "      <th></th>\n",
       "      <th></th>\n",
       "    </tr>\n",
       "  </thead>\n",
       "  <tbody>\n",
       "    <tr>\n",
       "      <th>2015-04-23</th>\n",
       "      <td>28.958900</td>\n",
       "      <td>29.126396</td>\n",
       "      <td>28.617209</td>\n",
       "      <td>28.652943</td>\n",
       "      <td>183083600</td>\n",
       "    </tr>\n",
       "    <tr>\n",
       "      <th>2015-04-24</th>\n",
       "      <td>29.095125</td>\n",
       "      <td>29.173291</td>\n",
       "      <td>28.860630</td>\n",
       "      <td>29.142026</td>\n",
       "      <td>178103600</td>\n",
       "    </tr>\n",
       "    <tr>\n",
       "      <th>2015-04-27</th>\n",
       "      <td>29.624413</td>\n",
       "      <td>29.731612</td>\n",
       "      <td>29.289421</td>\n",
       "      <td>29.548482</td>\n",
       "      <td>387816800</td>\n",
       "    </tr>\n",
       "    <tr>\n",
       "      <th>2015-04-28</th>\n",
       "      <td>29.157667</td>\n",
       "      <td>30.046511</td>\n",
       "      <td>28.936575</td>\n",
       "      <td>30.028647</td>\n",
       "      <td>475696000</td>\n",
       "    </tr>\n",
       "    <tr>\n",
       "      <th>2015-04-29</th>\n",
       "      <td>28.728874</td>\n",
       "      <td>29.387690</td>\n",
       "      <td>28.652944</td>\n",
       "      <td>29.068333</td>\n",
       "      <td>253544400</td>\n",
       "    </tr>\n",
       "    <tr>\n",
       "      <th>...</th>\n",
       "      <td>...</td>\n",
       "      <td>...</td>\n",
       "      <td>...</td>\n",
       "      <td>...</td>\n",
       "      <td>...</td>\n",
       "    </tr>\n",
       "    <tr>\n",
       "      <th>2025-04-15</th>\n",
       "      <td>202.139999</td>\n",
       "      <td>203.509995</td>\n",
       "      <td>199.800003</td>\n",
       "      <td>201.860001</td>\n",
       "      <td>51343900</td>\n",
       "    </tr>\n",
       "    <tr>\n",
       "      <th>2025-04-16</th>\n",
       "      <td>194.270004</td>\n",
       "      <td>200.699997</td>\n",
       "      <td>192.369995</td>\n",
       "      <td>198.360001</td>\n",
       "      <td>59732400</td>\n",
       "    </tr>\n",
       "    <tr>\n",
       "      <th>2025-04-17</th>\n",
       "      <td>196.979996</td>\n",
       "      <td>198.830002</td>\n",
       "      <td>194.419998</td>\n",
       "      <td>197.199997</td>\n",
       "      <td>51334300</td>\n",
       "    </tr>\n",
       "    <tr>\n",
       "      <th>2025-04-21</th>\n",
       "      <td>193.160004</td>\n",
       "      <td>193.800003</td>\n",
       "      <td>189.809998</td>\n",
       "      <td>193.270004</td>\n",
       "      <td>46742500</td>\n",
       "    </tr>\n",
       "    <tr>\n",
       "      <th>2025-04-22</th>\n",
       "      <td>199.740005</td>\n",
       "      <td>201.589996</td>\n",
       "      <td>195.970001</td>\n",
       "      <td>196.119995</td>\n",
       "      <td>52660200</td>\n",
       "    </tr>\n",
       "  </tbody>\n",
       "</table>\n",
       "<p>2515 rows × 5 columns</p>\n",
       "</div>"
      ],
      "text/plain": [
       "Price            Close        High         Low        Open     Volume\n",
       "Ticker            AAPL        AAPL        AAPL        AAPL       AAPL\n",
       "Date                                                                 \n",
       "2015-04-23   28.958900   29.126396   28.617209   28.652943  183083600\n",
       "2015-04-24   29.095125   29.173291   28.860630   29.142026  178103600\n",
       "2015-04-27   29.624413   29.731612   29.289421   29.548482  387816800\n",
       "2015-04-28   29.157667   30.046511   28.936575   30.028647  475696000\n",
       "2015-04-29   28.728874   29.387690   28.652944   29.068333  253544400\n",
       "...                ...         ...         ...         ...        ...\n",
       "2025-04-15  202.139999  203.509995  199.800003  201.860001   51343900\n",
       "2025-04-16  194.270004  200.699997  192.369995  198.360001   59732400\n",
       "2025-04-17  196.979996  198.830002  194.419998  197.199997   51334300\n",
       "2025-04-21  193.160004  193.800003  189.809998  193.270004   46742500\n",
       "2025-04-22  199.740005  201.589996  195.970001  196.119995   52660200\n",
       "\n",
       "[2515 rows x 5 columns]"
      ]
     },
     "execution_count": 2,
     "metadata": {},
     "output_type": "execute_result"
    }
   ],
   "source": [
    "now = datetime.now()\n",
    "\n",
    "start = datetime(now.year-10, now.month, now.day)\n",
    "end = now\n",
    "ticker = 'AAPL'\n",
    "df = yf.download(ticker, start, end)\n",
    "df"
   ]
  },
  {
   "cell_type": "code",
   "execution_count": 3,
   "id": "604e4b92-0453-4fbc-ad47-70c249200360",
   "metadata": {},
   "outputs": [
    {
     "data": {
      "text/html": [
       "<div>\n",
       "<style scoped>\n",
       "    .dataframe tbody tr th:only-of-type {\n",
       "        vertical-align: middle;\n",
       "    }\n",
       "\n",
       "    .dataframe tbody tr th {\n",
       "        vertical-align: top;\n",
       "    }\n",
       "\n",
       "    .dataframe thead tr th {\n",
       "        text-align: left;\n",
       "    }\n",
       "\n",
       "    .dataframe thead tr:last-of-type th {\n",
       "        text-align: right;\n",
       "    }\n",
       "</style>\n",
       "<table border=\"1\" class=\"dataframe\">\n",
       "  <thead>\n",
       "    <tr>\n",
       "      <th>Price</th>\n",
       "      <th>Close</th>\n",
       "      <th>High</th>\n",
       "      <th>Low</th>\n",
       "      <th>Open</th>\n",
       "      <th>Volume</th>\n",
       "    </tr>\n",
       "    <tr>\n",
       "      <th>Ticker</th>\n",
       "      <th>AAPL</th>\n",
       "      <th>AAPL</th>\n",
       "      <th>AAPL</th>\n",
       "      <th>AAPL</th>\n",
       "      <th>AAPL</th>\n",
       "    </tr>\n",
       "    <tr>\n",
       "      <th>Date</th>\n",
       "      <th></th>\n",
       "      <th></th>\n",
       "      <th></th>\n",
       "      <th></th>\n",
       "      <th></th>\n",
       "    </tr>\n",
       "  </thead>\n",
       "  <tbody>\n",
       "    <tr>\n",
       "      <th>2015-04-23</th>\n",
       "      <td>28.958900</td>\n",
       "      <td>29.126396</td>\n",
       "      <td>28.617209</td>\n",
       "      <td>28.652943</td>\n",
       "      <td>183083600</td>\n",
       "    </tr>\n",
       "    <tr>\n",
       "      <th>2015-04-24</th>\n",
       "      <td>29.095125</td>\n",
       "      <td>29.173291</td>\n",
       "      <td>28.860630</td>\n",
       "      <td>29.142026</td>\n",
       "      <td>178103600</td>\n",
       "    </tr>\n",
       "    <tr>\n",
       "      <th>2015-04-27</th>\n",
       "      <td>29.624413</td>\n",
       "      <td>29.731612</td>\n",
       "      <td>29.289421</td>\n",
       "      <td>29.548482</td>\n",
       "      <td>387816800</td>\n",
       "    </tr>\n",
       "    <tr>\n",
       "      <th>2015-04-28</th>\n",
       "      <td>29.157667</td>\n",
       "      <td>30.046511</td>\n",
       "      <td>28.936575</td>\n",
       "      <td>30.028647</td>\n",
       "      <td>475696000</td>\n",
       "    </tr>\n",
       "    <tr>\n",
       "      <th>2015-04-29</th>\n",
       "      <td>28.728874</td>\n",
       "      <td>29.387690</td>\n",
       "      <td>28.652944</td>\n",
       "      <td>29.068333</td>\n",
       "      <td>253544400</td>\n",
       "    </tr>\n",
       "  </tbody>\n",
       "</table>\n",
       "</div>"
      ],
      "text/plain": [
       "Price           Close       High        Low       Open     Volume\n",
       "Ticker           AAPL       AAPL       AAPL       AAPL       AAPL\n",
       "Date                                                             \n",
       "2015-04-23  28.958900  29.126396  28.617209  28.652943  183083600\n",
       "2015-04-24  29.095125  29.173291  28.860630  29.142026  178103600\n",
       "2015-04-27  29.624413  29.731612  29.289421  29.548482  387816800\n",
       "2015-04-28  29.157667  30.046511  28.936575  30.028647  475696000\n",
       "2015-04-29  28.728874  29.387690  28.652944  29.068333  253544400"
      ]
     },
     "execution_count": 3,
     "metadata": {},
     "output_type": "execute_result"
    }
   ],
   "source": [
    "df.head()"
   ]
  },
  {
   "cell_type": "code",
   "execution_count": 4,
   "id": "745bcba2-aa2e-44b2-960b-88f1eaab9d54",
   "metadata": {},
   "outputs": [
    {
     "data": {
      "text/html": [
       "<div>\n",
       "<style scoped>\n",
       "    .dataframe tbody tr th:only-of-type {\n",
       "        vertical-align: middle;\n",
       "    }\n",
       "\n",
       "    .dataframe tbody tr th {\n",
       "        vertical-align: top;\n",
       "    }\n",
       "\n",
       "    .dataframe thead tr th {\n",
       "        text-align: left;\n",
       "    }\n",
       "\n",
       "    .dataframe thead tr:last-of-type th {\n",
       "        text-align: right;\n",
       "    }\n",
       "</style>\n",
       "<table border=\"1\" class=\"dataframe\">\n",
       "  <thead>\n",
       "    <tr>\n",
       "      <th>Price</th>\n",
       "      <th>Close</th>\n",
       "      <th>High</th>\n",
       "      <th>Low</th>\n",
       "      <th>Open</th>\n",
       "      <th>Volume</th>\n",
       "    </tr>\n",
       "    <tr>\n",
       "      <th>Ticker</th>\n",
       "      <th>AAPL</th>\n",
       "      <th>AAPL</th>\n",
       "      <th>AAPL</th>\n",
       "      <th>AAPL</th>\n",
       "      <th>AAPL</th>\n",
       "    </tr>\n",
       "    <tr>\n",
       "      <th>Date</th>\n",
       "      <th></th>\n",
       "      <th></th>\n",
       "      <th></th>\n",
       "      <th></th>\n",
       "      <th></th>\n",
       "    </tr>\n",
       "  </thead>\n",
       "  <tbody>\n",
       "    <tr>\n",
       "      <th>2025-04-15</th>\n",
       "      <td>202.139999</td>\n",
       "      <td>203.509995</td>\n",
       "      <td>199.800003</td>\n",
       "      <td>201.860001</td>\n",
       "      <td>51343900</td>\n",
       "    </tr>\n",
       "    <tr>\n",
       "      <th>2025-04-16</th>\n",
       "      <td>194.270004</td>\n",
       "      <td>200.699997</td>\n",
       "      <td>192.369995</td>\n",
       "      <td>198.360001</td>\n",
       "      <td>59732400</td>\n",
       "    </tr>\n",
       "    <tr>\n",
       "      <th>2025-04-17</th>\n",
       "      <td>196.979996</td>\n",
       "      <td>198.830002</td>\n",
       "      <td>194.419998</td>\n",
       "      <td>197.199997</td>\n",
       "      <td>51334300</td>\n",
       "    </tr>\n",
       "    <tr>\n",
       "      <th>2025-04-21</th>\n",
       "      <td>193.160004</td>\n",
       "      <td>193.800003</td>\n",
       "      <td>189.809998</td>\n",
       "      <td>193.270004</td>\n",
       "      <td>46742500</td>\n",
       "    </tr>\n",
       "    <tr>\n",
       "      <th>2025-04-22</th>\n",
       "      <td>199.740005</td>\n",
       "      <td>201.589996</td>\n",
       "      <td>195.970001</td>\n",
       "      <td>196.119995</td>\n",
       "      <td>52660200</td>\n",
       "    </tr>\n",
       "  </tbody>\n",
       "</table>\n",
       "</div>"
      ],
      "text/plain": [
       "Price            Close        High         Low        Open    Volume\n",
       "Ticker            AAPL        AAPL        AAPL        AAPL      AAPL\n",
       "Date                                                                \n",
       "2025-04-15  202.139999  203.509995  199.800003  201.860001  51343900\n",
       "2025-04-16  194.270004  200.699997  192.369995  198.360001  59732400\n",
       "2025-04-17  196.979996  198.830002  194.419998  197.199997  51334300\n",
       "2025-04-21  193.160004  193.800003  189.809998  193.270004  46742500\n",
       "2025-04-22  199.740005  201.589996  195.970001  196.119995  52660200"
      ]
     },
     "execution_count": 4,
     "metadata": {},
     "output_type": "execute_result"
    }
   ],
   "source": [
    "df.tail()"
   ]
  },
  {
   "cell_type": "code",
   "execution_count": null,
   "id": "3992084b-4b1d-4bf6-9975-73df91574cd5",
   "metadata": {},
   "outputs": [],
   "source": []
  },
  {
   "cell_type": "markdown",
   "id": "61b00e60-0d0d-499f-a5a1-55a8b7ab398c",
   "metadata": {},
   "source": [
    "# 2. Data Exploration & Visualization"
   ]
  },
  {
   "cell_type": "code",
   "execution_count": 5,
   "id": "9c2c7530-fc12-40e8-b0ab-60c4ee42f214",
   "metadata": {},
   "outputs": [
    {
     "data": {
      "text/html": [
       "<div>\n",
       "<style scoped>\n",
       "    .dataframe tbody tr th:only-of-type {\n",
       "        vertical-align: middle;\n",
       "    }\n",
       "\n",
       "    .dataframe tbody tr th {\n",
       "        vertical-align: top;\n",
       "    }\n",
       "\n",
       "    .dataframe thead tr th {\n",
       "        text-align: left;\n",
       "    }\n",
       "\n",
       "    .dataframe thead tr:last-of-type th {\n",
       "        text-align: right;\n",
       "    }\n",
       "</style>\n",
       "<table border=\"1\" class=\"dataframe\">\n",
       "  <thead>\n",
       "    <tr>\n",
       "      <th>Price</th>\n",
       "      <th>Close</th>\n",
       "      <th>High</th>\n",
       "      <th>Low</th>\n",
       "      <th>Open</th>\n",
       "      <th>Volume</th>\n",
       "    </tr>\n",
       "    <tr>\n",
       "      <th>Ticker</th>\n",
       "      <th>AAPL</th>\n",
       "      <th>AAPL</th>\n",
       "      <th>AAPL</th>\n",
       "      <th>AAPL</th>\n",
       "      <th>AAPL</th>\n",
       "    </tr>\n",
       "    <tr>\n",
       "      <th>Date</th>\n",
       "      <th></th>\n",
       "      <th></th>\n",
       "      <th></th>\n",
       "      <th></th>\n",
       "      <th></th>\n",
       "    </tr>\n",
       "  </thead>\n",
       "  <tbody>\n",
       "    <tr>\n",
       "      <th>2015-04-23</th>\n",
       "      <td>28.958900</td>\n",
       "      <td>29.126396</td>\n",
       "      <td>28.617209</td>\n",
       "      <td>28.652943</td>\n",
       "      <td>183083600</td>\n",
       "    </tr>\n",
       "    <tr>\n",
       "      <th>2015-04-24</th>\n",
       "      <td>29.095125</td>\n",
       "      <td>29.173291</td>\n",
       "      <td>28.860630</td>\n",
       "      <td>29.142026</td>\n",
       "      <td>178103600</td>\n",
       "    </tr>\n",
       "    <tr>\n",
       "      <th>2015-04-27</th>\n",
       "      <td>29.624413</td>\n",
       "      <td>29.731612</td>\n",
       "      <td>29.289421</td>\n",
       "      <td>29.548482</td>\n",
       "      <td>387816800</td>\n",
       "    </tr>\n",
       "    <tr>\n",
       "      <th>2015-04-28</th>\n",
       "      <td>29.157667</td>\n",
       "      <td>30.046511</td>\n",
       "      <td>28.936575</td>\n",
       "      <td>30.028647</td>\n",
       "      <td>475696000</td>\n",
       "    </tr>\n",
       "    <tr>\n",
       "      <th>2015-04-29</th>\n",
       "      <td>28.728874</td>\n",
       "      <td>29.387690</td>\n",
       "      <td>28.652944</td>\n",
       "      <td>29.068333</td>\n",
       "      <td>253544400</td>\n",
       "    </tr>\n",
       "    <tr>\n",
       "      <th>...</th>\n",
       "      <td>...</td>\n",
       "      <td>...</td>\n",
       "      <td>...</td>\n",
       "      <td>...</td>\n",
       "      <td>...</td>\n",
       "    </tr>\n",
       "    <tr>\n",
       "      <th>2025-04-15</th>\n",
       "      <td>202.139999</td>\n",
       "      <td>203.509995</td>\n",
       "      <td>199.800003</td>\n",
       "      <td>201.860001</td>\n",
       "      <td>51343900</td>\n",
       "    </tr>\n",
       "    <tr>\n",
       "      <th>2025-04-16</th>\n",
       "      <td>194.270004</td>\n",
       "      <td>200.699997</td>\n",
       "      <td>192.369995</td>\n",
       "      <td>198.360001</td>\n",
       "      <td>59732400</td>\n",
       "    </tr>\n",
       "    <tr>\n",
       "      <th>2025-04-17</th>\n",
       "      <td>196.979996</td>\n",
       "      <td>198.830002</td>\n",
       "      <td>194.419998</td>\n",
       "      <td>197.199997</td>\n",
       "      <td>51334300</td>\n",
       "    </tr>\n",
       "    <tr>\n",
       "      <th>2025-04-21</th>\n",
       "      <td>193.160004</td>\n",
       "      <td>193.800003</td>\n",
       "      <td>189.809998</td>\n",
       "      <td>193.270004</td>\n",
       "      <td>46742500</td>\n",
       "    </tr>\n",
       "    <tr>\n",
       "      <th>2025-04-22</th>\n",
       "      <td>199.740005</td>\n",
       "      <td>201.589996</td>\n",
       "      <td>195.970001</td>\n",
       "      <td>196.119995</td>\n",
       "      <td>52660200</td>\n",
       "    </tr>\n",
       "  </tbody>\n",
       "</table>\n",
       "<p>2515 rows × 5 columns</p>\n",
       "</div>"
      ],
      "text/plain": [
       "Price            Close        High         Low        Open     Volume\n",
       "Ticker            AAPL        AAPL        AAPL        AAPL       AAPL\n",
       "Date                                                                 \n",
       "2015-04-23   28.958900   29.126396   28.617209   28.652943  183083600\n",
       "2015-04-24   29.095125   29.173291   28.860630   29.142026  178103600\n",
       "2015-04-27   29.624413   29.731612   29.289421   29.548482  387816800\n",
       "2015-04-28   29.157667   30.046511   28.936575   30.028647  475696000\n",
       "2015-04-29   28.728874   29.387690   28.652944   29.068333  253544400\n",
       "...                ...         ...         ...         ...        ...\n",
       "2025-04-15  202.139999  203.509995  199.800003  201.860001   51343900\n",
       "2025-04-16  194.270004  200.699997  192.369995  198.360001   59732400\n",
       "2025-04-17  196.979996  198.830002  194.419998  197.199997   51334300\n",
       "2025-04-21  193.160004  193.800003  189.809998  193.270004   46742500\n",
       "2025-04-22  199.740005  201.589996  195.970001  196.119995   52660200\n",
       "\n",
       "[2515 rows x 5 columns]"
      ]
     },
     "execution_count": 5,
     "metadata": {},
     "output_type": "execute_result"
    }
   ],
   "source": [
    "df"
   ]
  },
  {
   "cell_type": "code",
   "execution_count": 6,
   "id": "77a91477-c895-463d-b49d-7110aab738b1",
   "metadata": {},
   "outputs": [
    {
     "data": {
      "text/plain": [
       "pandas.core.frame.DataFrame"
      ]
     },
     "execution_count": 6,
     "metadata": {},
     "output_type": "execute_result"
    }
   ],
   "source": [
    "type(df)"
   ]
  },
  {
   "cell_type": "code",
   "execution_count": 7,
   "id": "6bee42c4-081d-4c01-9a9e-a409c246bb68",
   "metadata": {},
   "outputs": [
    {
     "data": {
      "text/plain": [
       "(2515, 5)"
      ]
     },
     "execution_count": 7,
     "metadata": {},
     "output_type": "execute_result"
    }
   ],
   "source": [
    "df.shape"
   ]
  },
  {
   "cell_type": "code",
   "execution_count": 8,
   "id": "1f601dc5-e5e9-435c-9d18-6fd2b10af077",
   "metadata": {},
   "outputs": [
    {
     "data": {
      "text/plain": [
       "Price   Ticker\n",
       "Close   AAPL      0\n",
       "High    AAPL      0\n",
       "Low     AAPL      0\n",
       "Open    AAPL      0\n",
       "Volume  AAPL      0\n",
       "dtype: int64"
      ]
     },
     "execution_count": 8,
     "metadata": {},
     "output_type": "execute_result"
    }
   ],
   "source": [
    "df.isna().sum()"
   ]
  },
  {
   "cell_type": "code",
   "execution_count": 9,
   "id": "c61cdd63-39d9-4728-9790-ecfdf116ecea",
   "metadata": {},
   "outputs": [
    {
     "data": {
      "text/html": [
       "<div>\n",
       "<style scoped>\n",
       "    .dataframe tbody tr th:only-of-type {\n",
       "        vertical-align: middle;\n",
       "    }\n",
       "\n",
       "    .dataframe tbody tr th {\n",
       "        vertical-align: top;\n",
       "    }\n",
       "\n",
       "    .dataframe thead tr th {\n",
       "        text-align: left;\n",
       "    }\n",
       "</style>\n",
       "<table border=\"1\" class=\"dataframe\">\n",
       "  <thead>\n",
       "    <tr>\n",
       "      <th>Price</th>\n",
       "      <th>Close</th>\n",
       "      <th>High</th>\n",
       "      <th>Low</th>\n",
       "      <th>Open</th>\n",
       "      <th>Volume</th>\n",
       "    </tr>\n",
       "    <tr>\n",
       "      <th>Ticker</th>\n",
       "      <th>AAPL</th>\n",
       "      <th>AAPL</th>\n",
       "      <th>AAPL</th>\n",
       "      <th>AAPL</th>\n",
       "      <th>AAPL</th>\n",
       "    </tr>\n",
       "  </thead>\n",
       "  <tbody>\n",
       "    <tr>\n",
       "      <th>count</th>\n",
       "      <td>2515.000000</td>\n",
       "      <td>2515.000000</td>\n",
       "      <td>2515.000000</td>\n",
       "      <td>2515.000000</td>\n",
       "      <td>2.515000e+03</td>\n",
       "    </tr>\n",
       "    <tr>\n",
       "      <th>mean</th>\n",
       "      <td>100.100453</td>\n",
       "      <td>101.105071</td>\n",
       "      <td>98.987829</td>\n",
       "      <td>100.003041</td>\n",
       "      <td>1.123708e+08</td>\n",
       "    </tr>\n",
       "    <tr>\n",
       "      <th>std</th>\n",
       "      <td>68.271379</td>\n",
       "      <td>68.943291</td>\n",
       "      <td>67.508198</td>\n",
       "      <td>68.189975</td>\n",
       "      <td>6.555688e+07</td>\n",
       "    </tr>\n",
       "    <tr>\n",
       "      <th>min</th>\n",
       "      <td>20.674528</td>\n",
       "      <td>20.978908</td>\n",
       "      <td>20.475428</td>\n",
       "      <td>20.596724</td>\n",
       "      <td>2.323470e+07</td>\n",
       "    </tr>\n",
       "    <tr>\n",
       "      <th>25%</th>\n",
       "      <td>37.159752</td>\n",
       "      <td>37.507965</td>\n",
       "      <td>36.734302</td>\n",
       "      <td>37.154401</td>\n",
       "      <td>6.874540e+07</td>\n",
       "    </tr>\n",
       "    <tr>\n",
       "      <th>50%</th>\n",
       "      <td>76.653259</td>\n",
       "      <td>77.366901</td>\n",
       "      <td>75.655577</td>\n",
       "      <td>76.570365</td>\n",
       "      <td>9.645210e+07</td>\n",
       "    </tr>\n",
       "    <tr>\n",
       "      <th>75%</th>\n",
       "      <td>159.105919</td>\n",
       "      <td>160.826136</td>\n",
       "      <td>156.794382</td>\n",
       "      <td>158.613177</td>\n",
       "      <td>1.367109e+08</td>\n",
       "    </tr>\n",
       "    <tr>\n",
       "      <th>max</th>\n",
       "      <td>258.735504</td>\n",
       "      <td>259.814335</td>\n",
       "      <td>257.347047</td>\n",
       "      <td>257.906429</td>\n",
       "      <td>6.488252e+08</td>\n",
       "    </tr>\n",
       "  </tbody>\n",
       "</table>\n",
       "</div>"
      ],
      "text/plain": [
       "Price         Close         High          Low         Open        Volume\n",
       "Ticker         AAPL         AAPL         AAPL         AAPL          AAPL\n",
       "count   2515.000000  2515.000000  2515.000000  2515.000000  2.515000e+03\n",
       "mean     100.100453   101.105071    98.987829   100.003041  1.123708e+08\n",
       "std       68.271379    68.943291    67.508198    68.189975  6.555688e+07\n",
       "min       20.674528    20.978908    20.475428    20.596724  2.323470e+07\n",
       "25%       37.159752    37.507965    36.734302    37.154401  6.874540e+07\n",
       "50%       76.653259    77.366901    75.655577    76.570365  9.645210e+07\n",
       "75%      159.105919   160.826136   156.794382   158.613177  1.367109e+08\n",
       "max      258.735504   259.814335   257.347047   257.906429  6.488252e+08"
      ]
     },
     "execution_count": 9,
     "metadata": {},
     "output_type": "execute_result"
    }
   ],
   "source": [
    "df.describe()"
   ]
  },
  {
   "cell_type": "code",
   "execution_count": 10,
   "id": "45ecd6d4-4d9f-499c-965d-4f2f6d3bfeb1",
   "metadata": {},
   "outputs": [
    {
     "data": {
      "text/plain": [
       "Price   Ticker\n",
       "Close   AAPL      float64\n",
       "High    AAPL      float64\n",
       "Low     AAPL      float64\n",
       "Open    AAPL      float64\n",
       "Volume  AAPL        int64\n",
       "dtype: object"
      ]
     },
     "execution_count": 10,
     "metadata": {},
     "output_type": "execute_result"
    }
   ],
   "source": [
    "df.dtypes"
   ]
  },
  {
   "cell_type": "code",
   "execution_count": 11,
   "id": "fceb362d-c504-4bb0-bf3b-ebe65e89b9ed",
   "metadata": {},
   "outputs": [
    {
     "data": {
      "text/html": [
       "<div>\n",
       "<style scoped>\n",
       "    .dataframe tbody tr th:only-of-type {\n",
       "        vertical-align: middle;\n",
       "    }\n",
       "\n",
       "    .dataframe tbody tr th {\n",
       "        vertical-align: top;\n",
       "    }\n",
       "\n",
       "    .dataframe thead tr th {\n",
       "        text-align: left;\n",
       "    }\n",
       "\n",
       "    .dataframe thead tr:last-of-type th {\n",
       "        text-align: right;\n",
       "    }\n",
       "</style>\n",
       "<table border=\"1\" class=\"dataframe\">\n",
       "  <thead>\n",
       "    <tr>\n",
       "      <th>Price</th>\n",
       "      <th>Close</th>\n",
       "      <th>High</th>\n",
       "      <th>Low</th>\n",
       "      <th>Open</th>\n",
       "      <th>Volume</th>\n",
       "    </tr>\n",
       "    <tr>\n",
       "      <th>Ticker</th>\n",
       "      <th>AAPL</th>\n",
       "      <th>AAPL</th>\n",
       "      <th>AAPL</th>\n",
       "      <th>AAPL</th>\n",
       "      <th>AAPL</th>\n",
       "    </tr>\n",
       "    <tr>\n",
       "      <th>Date</th>\n",
       "      <th></th>\n",
       "      <th></th>\n",
       "      <th></th>\n",
       "      <th></th>\n",
       "      <th></th>\n",
       "    </tr>\n",
       "  </thead>\n",
       "  <tbody>\n",
       "    <tr>\n",
       "      <th>2015-04-23</th>\n",
       "      <td>28.958900</td>\n",
       "      <td>29.126396</td>\n",
       "      <td>28.617209</td>\n",
       "      <td>28.652943</td>\n",
       "      <td>183083600</td>\n",
       "    </tr>\n",
       "    <tr>\n",
       "      <th>2015-04-24</th>\n",
       "      <td>29.095125</td>\n",
       "      <td>29.173291</td>\n",
       "      <td>28.860630</td>\n",
       "      <td>29.142026</td>\n",
       "      <td>178103600</td>\n",
       "    </tr>\n",
       "    <tr>\n",
       "      <th>2015-04-27</th>\n",
       "      <td>29.624413</td>\n",
       "      <td>29.731612</td>\n",
       "      <td>29.289421</td>\n",
       "      <td>29.548482</td>\n",
       "      <td>387816800</td>\n",
       "    </tr>\n",
       "    <tr>\n",
       "      <th>2015-04-28</th>\n",
       "      <td>29.157667</td>\n",
       "      <td>30.046511</td>\n",
       "      <td>28.936575</td>\n",
       "      <td>30.028647</td>\n",
       "      <td>475696000</td>\n",
       "    </tr>\n",
       "    <tr>\n",
       "      <th>2015-04-29</th>\n",
       "      <td>28.728874</td>\n",
       "      <td>29.387690</td>\n",
       "      <td>28.652944</td>\n",
       "      <td>29.068333</td>\n",
       "      <td>253544400</td>\n",
       "    </tr>\n",
       "  </tbody>\n",
       "</table>\n",
       "</div>"
      ],
      "text/plain": [
       "Price           Close       High        Low       Open     Volume\n",
       "Ticker           AAPL       AAPL       AAPL       AAPL       AAPL\n",
       "Date                                                             \n",
       "2015-04-23  28.958900  29.126396  28.617209  28.652943  183083600\n",
       "2015-04-24  29.095125  29.173291  28.860630  29.142026  178103600\n",
       "2015-04-27  29.624413  29.731612  29.289421  29.548482  387816800\n",
       "2015-04-28  29.157667  30.046511  28.936575  30.028647  475696000\n",
       "2015-04-29  28.728874  29.387690  28.652944  29.068333  253544400"
      ]
     },
     "execution_count": 11,
     "metadata": {},
     "output_type": "execute_result"
    }
   ],
   "source": [
    "df.head()"
   ]
  },
  {
   "cell_type": "code",
   "execution_count": 12,
   "id": "0e4c89d7-6e94-48f9-b6a3-a30e9902db97",
   "metadata": {},
   "outputs": [],
   "source": [
    "df = df.reset_index()"
   ]
  },
  {
   "cell_type": "code",
   "execution_count": 13,
   "id": "15f47480-3f23-454f-a472-a21e4a7f1b40",
   "metadata": {},
   "outputs": [
    {
     "data": {
      "text/html": [
       "<div>\n",
       "<style scoped>\n",
       "    .dataframe tbody tr th:only-of-type {\n",
       "        vertical-align: middle;\n",
       "    }\n",
       "\n",
       "    .dataframe tbody tr th {\n",
       "        vertical-align: top;\n",
       "    }\n",
       "\n",
       "    .dataframe thead tr th {\n",
       "        text-align: left;\n",
       "    }\n",
       "</style>\n",
       "<table border=\"1\" class=\"dataframe\">\n",
       "  <thead>\n",
       "    <tr>\n",
       "      <th>Price</th>\n",
       "      <th>Date</th>\n",
       "      <th>Close</th>\n",
       "      <th>High</th>\n",
       "      <th>Low</th>\n",
       "      <th>Open</th>\n",
       "      <th>Volume</th>\n",
       "    </tr>\n",
       "    <tr>\n",
       "      <th>Ticker</th>\n",
       "      <th></th>\n",
       "      <th>AAPL</th>\n",
       "      <th>AAPL</th>\n",
       "      <th>AAPL</th>\n",
       "      <th>AAPL</th>\n",
       "      <th>AAPL</th>\n",
       "    </tr>\n",
       "  </thead>\n",
       "  <tbody>\n",
       "    <tr>\n",
       "      <th>0</th>\n",
       "      <td>2015-04-23</td>\n",
       "      <td>28.958900</td>\n",
       "      <td>29.126396</td>\n",
       "      <td>28.617209</td>\n",
       "      <td>28.652943</td>\n",
       "      <td>183083600</td>\n",
       "    </tr>\n",
       "    <tr>\n",
       "      <th>1</th>\n",
       "      <td>2015-04-24</td>\n",
       "      <td>29.095125</td>\n",
       "      <td>29.173291</td>\n",
       "      <td>28.860630</td>\n",
       "      <td>29.142026</td>\n",
       "      <td>178103600</td>\n",
       "    </tr>\n",
       "    <tr>\n",
       "      <th>2</th>\n",
       "      <td>2015-04-27</td>\n",
       "      <td>29.624413</td>\n",
       "      <td>29.731612</td>\n",
       "      <td>29.289421</td>\n",
       "      <td>29.548482</td>\n",
       "      <td>387816800</td>\n",
       "    </tr>\n",
       "    <tr>\n",
       "      <th>3</th>\n",
       "      <td>2015-04-28</td>\n",
       "      <td>29.157667</td>\n",
       "      <td>30.046511</td>\n",
       "      <td>28.936575</td>\n",
       "      <td>30.028647</td>\n",
       "      <td>475696000</td>\n",
       "    </tr>\n",
       "    <tr>\n",
       "      <th>4</th>\n",
       "      <td>2015-04-29</td>\n",
       "      <td>28.728874</td>\n",
       "      <td>29.387690</td>\n",
       "      <td>28.652944</td>\n",
       "      <td>29.068333</td>\n",
       "      <td>253544400</td>\n",
       "    </tr>\n",
       "  </tbody>\n",
       "</table>\n",
       "</div>"
      ],
      "text/plain": [
       "Price        Date      Close       High        Low       Open     Volume\n",
       "Ticker                  AAPL       AAPL       AAPL       AAPL       AAPL\n",
       "0      2015-04-23  28.958900  29.126396  28.617209  28.652943  183083600\n",
       "1      2015-04-24  29.095125  29.173291  28.860630  29.142026  178103600\n",
       "2      2015-04-27  29.624413  29.731612  29.289421  29.548482  387816800\n",
       "3      2015-04-28  29.157667  30.046511  28.936575  30.028647  475696000\n",
       "4      2015-04-29  28.728874  29.387690  28.652944  29.068333  253544400"
      ]
     },
     "execution_count": 13,
     "metadata": {},
     "output_type": "execute_result"
    }
   ],
   "source": [
    "df.head()"
   ]
  },
  {
   "cell_type": "code",
   "execution_count": null,
   "id": "71c54cc4-6107-445c-a8a3-01458ce04eb3",
   "metadata": {},
   "outputs": [],
   "source": []
  },
  {
   "cell_type": "code",
   "execution_count": 14,
   "id": "d54fae07-e9f5-4cdc-9941-1aa63fc2ea2d",
   "metadata": {},
   "outputs": [
    {
     "data": {
      "text/plain": [
       "Text(0, 0.5, 'Close price')"
      ]
     },
     "execution_count": 14,
     "metadata": {},
     "output_type": "execute_result"
    },
    {
     "data": {
      "image/png": "[encoded data removed]",
      "text/plain": [
       "<Figure size 1200x500 with 1 Axes>"
      ]
     },
     "metadata": {},
     "output_type": "display_data"
    }
   ],
   "source": [
    "plt.figure(figsize=(12, 5))\n",
    "plt.plot(df.Close)\n",
    "plt.title(ticker)\n",
    "plt.xlabel('Days')\n",
    "plt.ylabel('Close price')"
   ]
  },
  {
   "cell_type": "code",
   "execution_count": null,
   "id": "6e13baf0-b1e2-4c03-a522-5358de16f8c4",
   "metadata": {},
   "outputs": [],
   "source": []
  },
  {
   "cell_type": "markdown",
   "id": "00077e19-5b85-4af2-8817-ecc511a74f41",
   "metadata": {},
   "source": [
    "# 3. Feature Engineering"
   ]
  },
  {
   "cell_type": "code",
   "execution_count": 15,
   "id": "77ef9997-8fa2-46db-b7fa-31a72c85aa95",
   "metadata": {},
   "outputs": [],
   "source": [
    "# 10, 20, 30, 40, 50, 60, 70, 80, 90, 100\n",
    "\n",
    "# MA of 5 days ==> null null null null 30 40"
   ]
  },
  {
   "cell_type": "code",
   "execution_count": 16,
   "id": "fca4f085-0973-411e-a15d-d28e1bb0bffd",
   "metadata": {},
   "outputs": [
    {
     "name": "stdout",
     "output_type": "stream",
     "text": [
      "50.0\n"
     ]
    }
   ],
   "source": [
    "temp_df = [10, 20, 30, 40, 50, 60, 70, 80, 90, 100]\n",
    "print(sum(temp_df[2:7])/5)"
   ]
  },
  {
   "cell_type": "code",
   "execution_count": 17,
   "id": "df8498b9-0f50-431e-bd9f-c8a22aee32e1",
   "metadata": {},
   "outputs": [
    {
     "data": {
      "text/html": [
       "<div>\n",
       "<style scoped>\n",
       "    .dataframe tbody tr th:only-of-type {\n",
       "        vertical-align: middle;\n",
       "    }\n",
       "\n",
       "    .dataframe tbody tr th {\n",
       "        vertical-align: top;\n",
       "    }\n",
       "\n",
       "    .dataframe thead th {\n",
       "        text-align: right;\n",
       "    }\n",
       "</style>\n",
       "<table border=\"1\" class=\"dataframe\">\n",
       "  <thead>\n",
       "    <tr style=\"text-align: right;\">\n",
       "      <th></th>\n",
       "      <th>0</th>\n",
       "    </tr>\n",
       "  </thead>\n",
       "  <tbody>\n",
       "    <tr>\n",
       "      <th>0</th>\n",
       "      <td>10</td>\n",
       "    </tr>\n",
       "    <tr>\n",
       "      <th>1</th>\n",
       "      <td>20</td>\n",
       "    </tr>\n",
       "    <tr>\n",
       "      <th>2</th>\n",
       "      <td>30</td>\n",
       "    </tr>\n",
       "    <tr>\n",
       "      <th>3</th>\n",
       "      <td>40</td>\n",
       "    </tr>\n",
       "    <tr>\n",
       "      <th>4</th>\n",
       "      <td>50</td>\n",
       "    </tr>\n",
       "    <tr>\n",
       "      <th>5</th>\n",
       "      <td>60</td>\n",
       "    </tr>\n",
       "    <tr>\n",
       "      <th>6</th>\n",
       "      <td>70</td>\n",
       "    </tr>\n",
       "    <tr>\n",
       "      <th>7</th>\n",
       "      <td>80</td>\n",
       "    </tr>\n",
       "    <tr>\n",
       "      <th>8</th>\n",
       "      <td>90</td>\n",
       "    </tr>\n",
       "    <tr>\n",
       "      <th>9</th>\n",
       "      <td>100</td>\n",
       "    </tr>\n",
       "  </tbody>\n",
       "</table>\n",
       "</div>"
      ],
      "text/plain": [
       "     0\n",
       "0   10\n",
       "1   20\n",
       "2   30\n",
       "3   40\n",
       "4   50\n",
       "5   60\n",
       "6   70\n",
       "7   80\n",
       "8   90\n",
       "9  100"
      ]
     },
     "execution_count": 17,
     "metadata": {},
     "output_type": "execute_result"
    }
   ],
   "source": [
    "df1 = pd.DataFrame([10, 20, 30, 40, 50, 60, 70, 80, 90, 100])\n",
    "df1"
   ]
  },
  {
   "cell_type": "code",
   "execution_count": 18,
   "id": "6d071354-d194-4171-881d-bb9e566243b0",
   "metadata": {},
   "outputs": [
    {
     "data": {
      "text/html": [
       "<div>\n",
       "<style scoped>\n",
       "    .dataframe tbody tr th:only-of-type {\n",
       "        vertical-align: middle;\n",
       "    }\n",
       "\n",
       "    .dataframe tbody tr th {\n",
       "        vertical-align: top;\n",
       "    }\n",
       "\n",
       "    .dataframe thead th {\n",
       "        text-align: right;\n",
       "    }\n",
       "</style>\n",
       "<table border=\"1\" class=\"dataframe\">\n",
       "  <thead>\n",
       "    <tr style=\"text-align: right;\">\n",
       "      <th></th>\n",
       "      <th>0</th>\n",
       "      <th>MA_5</th>\n",
       "    </tr>\n",
       "  </thead>\n",
       "  <tbody>\n",
       "    <tr>\n",
       "      <th>0</th>\n",
       "      <td>10</td>\n",
       "      <td>NaN</td>\n",
       "    </tr>\n",
       "    <tr>\n",
       "      <th>1</th>\n",
       "      <td>20</td>\n",
       "      <td>NaN</td>\n",
       "    </tr>\n",
       "    <tr>\n",
       "      <th>2</th>\n",
       "      <td>30</td>\n",
       "      <td>NaN</td>\n",
       "    </tr>\n",
       "    <tr>\n",
       "      <th>3</th>\n",
       "      <td>40</td>\n",
       "      <td>NaN</td>\n",
       "    </tr>\n",
       "    <tr>\n",
       "      <th>4</th>\n",
       "      <td>50</td>\n",
       "      <td>30.0</td>\n",
       "    </tr>\n",
       "    <tr>\n",
       "      <th>5</th>\n",
       "      <td>60</td>\n",
       "      <td>40.0</td>\n",
       "    </tr>\n",
       "    <tr>\n",
       "      <th>6</th>\n",
       "      <td>70</td>\n",
       "      <td>50.0</td>\n",
       "    </tr>\n",
       "    <tr>\n",
       "      <th>7</th>\n",
       "      <td>80</td>\n",
       "      <td>60.0</td>\n",
       "    </tr>\n",
       "    <tr>\n",
       "      <th>8</th>\n",
       "      <td>90</td>\n",
       "      <td>70.0</td>\n",
       "    </tr>\n",
       "    <tr>\n",
       "      <th>9</th>\n",
       "      <td>100</td>\n",
       "      <td>80.0</td>\n",
       "    </tr>\n",
       "  </tbody>\n",
       "</table>\n",
       "</div>"
      ],
      "text/plain": [
       "     0  MA_5\n",
       "0   10   NaN\n",
       "1   20   NaN\n",
       "2   30   NaN\n",
       "3   40   NaN\n",
       "4   50  30.0\n",
       "5   60  40.0\n",
       "6   70  50.0\n",
       "7   80  60.0\n",
       "8   90  70.0\n",
       "9  100  80.0"
      ]
     },
     "execution_count": 18,
     "metadata": {},
     "output_type": "execute_result"
    }
   ],
   "source": [
    "df1['MA_5'] = df1.rolling(5).mean()\n",
    "df1"
   ]
  },
  {
   "cell_type": "code",
   "execution_count": null,
   "id": "52c3804c-8187-4935-9c2c-c53e96a78e69",
   "metadata": {},
   "outputs": [],
   "source": []
  },
  {
   "cell_type": "markdown",
   "id": "75fa071d-2fdd-4472-9920-32797380d758",
   "metadata": {},
   "source": [
    "### 100 days Moving Average"
   ]
  },
  {
   "cell_type": "code",
   "execution_count": 19,
   "id": "3bfca11c-c601-435a-bcb6-04a4ecb7e6f5",
   "metadata": {},
   "outputs": [
    {
     "data": {
      "text/html": [
       "<div>\n",
       "<style scoped>\n",
       "    .dataframe tbody tr th:only-of-type {\n",
       "        vertical-align: middle;\n",
       "    }\n",
       "\n",
       "    .dataframe tbody tr th {\n",
       "        vertical-align: top;\n",
       "    }\n",
       "\n",
       "    .dataframe thead tr th {\n",
       "        text-align: left;\n",
       "    }\n",
       "</style>\n",
       "<table border=\"1\" class=\"dataframe\">\n",
       "  <thead>\n",
       "    <tr>\n",
       "      <th>Price</th>\n",
       "      <th>Date</th>\n",
       "      <th>Close</th>\n",
       "      <th>High</th>\n",
       "      <th>Low</th>\n",
       "      <th>Open</th>\n",
       "      <th>Volume</th>\n",
       "      <th>MA_100</th>\n",
       "    </tr>\n",
       "    <tr>\n",
       "      <th>Ticker</th>\n",
       "      <th></th>\n",
       "      <th>AAPL</th>\n",
       "      <th>AAPL</th>\n",
       "      <th>AAPL</th>\n",
       "      <th>AAPL</th>\n",
       "      <th>AAPL</th>\n",
       "      <th></th>\n",
       "    </tr>\n",
       "  </thead>\n",
       "  <tbody>\n",
       "    <tr>\n",
       "      <th>0</th>\n",
       "      <td>2015-04-23</td>\n",
       "      <td>28.958900</td>\n",
       "      <td>29.126396</td>\n",
       "      <td>28.617209</td>\n",
       "      <td>28.652943</td>\n",
       "      <td>183083600</td>\n",
       "      <td>NaN</td>\n",
       "    </tr>\n",
       "    <tr>\n",
       "      <th>1</th>\n",
       "      <td>2015-04-24</td>\n",
       "      <td>29.095125</td>\n",
       "      <td>29.173291</td>\n",
       "      <td>28.860630</td>\n",
       "      <td>29.142026</td>\n",
       "      <td>178103600</td>\n",
       "      <td>NaN</td>\n",
       "    </tr>\n",
       "    <tr>\n",
       "      <th>2</th>\n",
       "      <td>2015-04-27</td>\n",
       "      <td>29.624413</td>\n",
       "      <td>29.731612</td>\n",
       "      <td>29.289421</td>\n",
       "      <td>29.548482</td>\n",
       "      <td>387816800</td>\n",
       "      <td>NaN</td>\n",
       "    </tr>\n",
       "    <tr>\n",
       "      <th>3</th>\n",
       "      <td>2015-04-28</td>\n",
       "      <td>29.157667</td>\n",
       "      <td>30.046511</td>\n",
       "      <td>28.936575</td>\n",
       "      <td>30.028647</td>\n",
       "      <td>475696000</td>\n",
       "      <td>NaN</td>\n",
       "    </tr>\n",
       "    <tr>\n",
       "      <th>4</th>\n",
       "      <td>2015-04-29</td>\n",
       "      <td>28.728874</td>\n",
       "      <td>29.387690</td>\n",
       "      <td>28.652944</td>\n",
       "      <td>29.068333</td>\n",
       "      <td>253544400</td>\n",
       "      <td>NaN</td>\n",
       "    </tr>\n",
       "  </tbody>\n",
       "</table>\n",
       "</div>"
      ],
      "text/plain": [
       "Price        Date      Close       High        Low       Open     Volume  \\\n",
       "Ticker                  AAPL       AAPL       AAPL       AAPL       AAPL   \n",
       "0      2015-04-23  28.958900  29.126396  28.617209  28.652943  183083600   \n",
       "1      2015-04-24  29.095125  29.173291  28.860630  29.142026  178103600   \n",
       "2      2015-04-27  29.624413  29.731612  29.289421  29.548482  387816800   \n",
       "3      2015-04-28  29.157667  30.046511  28.936575  30.028647  475696000   \n",
       "4      2015-04-29  28.728874  29.387690  28.652944  29.068333  253544400   \n",
       "\n",
       "Price  MA_100  \n",
       "Ticker         \n",
       "0         NaN  \n",
       "1         NaN  \n",
       "2         NaN  \n",
       "3         NaN  \n",
       "4         NaN  "
      ]
     },
     "execution_count": 19,
     "metadata": {},
     "output_type": "execute_result"
    }
   ],
   "source": [
    "df['MA_100'] = df.Close.rolling(100).mean()\n",
    "df.head()"
   ]
  },
  {
   "cell_type": "code",
   "execution_count": 20,
   "id": "3f74d9ec-253d-494b-9d48-c3dd50b05dbf",
   "metadata": {},
   "outputs": [
    {
     "data": {
      "text/html": [
       "<div>\n",
       "<style scoped>\n",
       "    .dataframe tbody tr th:only-of-type {\n",
       "        vertical-align: middle;\n",
       "    }\n",
       "\n",
       "    .dataframe tbody tr th {\n",
       "        vertical-align: top;\n",
       "    }\n",
       "\n",
       "    .dataframe thead tr th {\n",
       "        text-align: left;\n",
       "    }\n",
       "</style>\n",
       "<table border=\"1\" class=\"dataframe\">\n",
       "  <thead>\n",
       "    <tr>\n",
       "      <th>Price</th>\n",
       "      <th>Date</th>\n",
       "      <th>Close</th>\n",
       "      <th>High</th>\n",
       "      <th>Low</th>\n",
       "      <th>Open</th>\n",
       "      <th>Volume</th>\n",
       "      <th>MA_100</th>\n",
       "    </tr>\n",
       "    <tr>\n",
       "      <th>Ticker</th>\n",
       "      <th></th>\n",
       "      <th>AAPL</th>\n",
       "      <th>AAPL</th>\n",
       "      <th>AAPL</th>\n",
       "      <th>AAPL</th>\n",
       "      <th>AAPL</th>\n",
       "      <th></th>\n",
       "    </tr>\n",
       "  </thead>\n",
       "  <tbody>\n",
       "    <tr>\n",
       "      <th>0</th>\n",
       "      <td>2015-04-23</td>\n",
       "      <td>28.958900</td>\n",
       "      <td>29.126396</td>\n",
       "      <td>28.617209</td>\n",
       "      <td>28.652943</td>\n",
       "      <td>183083600</td>\n",
       "      <td>NaN</td>\n",
       "    </tr>\n",
       "    <tr>\n",
       "      <th>1</th>\n",
       "      <td>2015-04-24</td>\n",
       "      <td>29.095125</td>\n",
       "      <td>29.173291</td>\n",
       "      <td>28.860630</td>\n",
       "      <td>29.142026</td>\n",
       "      <td>178103600</td>\n",
       "      <td>NaN</td>\n",
       "    </tr>\n",
       "    <tr>\n",
       "      <th>2</th>\n",
       "      <td>2015-04-27</td>\n",
       "      <td>29.624413</td>\n",
       "      <td>29.731612</td>\n",
       "      <td>29.289421</td>\n",
       "      <td>29.548482</td>\n",
       "      <td>387816800</td>\n",
       "      <td>NaN</td>\n",
       "    </tr>\n",
       "    <tr>\n",
       "      <th>3</th>\n",
       "      <td>2015-04-28</td>\n",
       "      <td>29.157667</td>\n",
       "      <td>30.046511</td>\n",
       "      <td>28.936575</td>\n",
       "      <td>30.028647</td>\n",
       "      <td>475696000</td>\n",
       "      <td>NaN</td>\n",
       "    </tr>\n",
       "    <tr>\n",
       "      <th>4</th>\n",
       "      <td>2015-04-29</td>\n",
       "      <td>28.728874</td>\n",
       "      <td>29.387690</td>\n",
       "      <td>28.652944</td>\n",
       "      <td>29.068333</td>\n",
       "      <td>253544400</td>\n",
       "      <td>NaN</td>\n",
       "    </tr>\n",
       "    <tr>\n",
       "      <th>...</th>\n",
       "      <td>...</td>\n",
       "      <td>...</td>\n",
       "      <td>...</td>\n",
       "      <td>...</td>\n",
       "      <td>...</td>\n",
       "      <td>...</td>\n",
       "      <td>...</td>\n",
       "    </tr>\n",
       "    <tr>\n",
       "      <th>98</th>\n",
       "      <td>2015-09-11</td>\n",
       "      <td>25.728731</td>\n",
       "      <td>25.728731</td>\n",
       "      <td>25.176807</td>\n",
       "      <td>25.183565</td>\n",
       "      <td>199662000</td>\n",
       "      <td>NaN</td>\n",
       "    </tr>\n",
       "    <tr>\n",
       "      <th>99</th>\n",
       "      <td>2015-09-14</td>\n",
       "      <td>25.976532</td>\n",
       "      <td>26.332468</td>\n",
       "      <td>25.875159</td>\n",
       "      <td>26.262633</td>\n",
       "      <td>233453600</td>\n",
       "      <td>27.618246</td>\n",
       "    </tr>\n",
       "    <tr>\n",
       "      <th>100</th>\n",
       "      <td>2015-09-15</td>\n",
       "      <td>26.195053</td>\n",
       "      <td>26.251372</td>\n",
       "      <td>25.776040</td>\n",
       "      <td>26.116207</td>\n",
       "      <td>173364800</td>\n",
       "      <td>27.590608</td>\n",
       "    </tr>\n",
       "    <tr>\n",
       "      <th>101</th>\n",
       "      <td>2015-09-16</td>\n",
       "      <td>26.224337</td>\n",
       "      <td>26.253622</td>\n",
       "      <td>26.005819</td>\n",
       "      <td>26.188292</td>\n",
       "      <td>148694000</td>\n",
       "      <td>27.561900</td>\n",
       "    </tr>\n",
       "    <tr>\n",
       "      <th>102</th>\n",
       "      <td>2015-09-17</td>\n",
       "      <td>25.663399</td>\n",
       "      <td>26.242357</td>\n",
       "      <td>25.618344</td>\n",
       "      <td>26.055380</td>\n",
       "      <td>256450400</td>\n",
       "      <td>27.522290</td>\n",
       "    </tr>\n",
       "  </tbody>\n",
       "</table>\n",
       "<p>103 rows × 7 columns</p>\n",
       "</div>"
      ],
      "text/plain": [
       "Price        Date      Close       High        Low       Open     Volume  \\\n",
       "Ticker                  AAPL       AAPL       AAPL       AAPL       AAPL   \n",
       "0      2015-04-23  28.958900  29.126396  28.617209  28.652943  183083600   \n",
       "1      2015-04-24  29.095125  29.173291  28.860630  29.142026  178103600   \n",
       "2      2015-04-27  29.624413  29.731612  29.289421  29.548482  387816800   \n",
       "3      2015-04-28  29.157667  30.046511  28.936575  30.028647  475696000   \n",
       "4      2015-04-29  28.728874  29.387690  28.652944  29.068333  253544400   \n",
       "..            ...        ...        ...        ...        ...        ...   \n",
       "98     2015-09-11  25.728731  25.728731  25.176807  25.183565  199662000   \n",
       "99     2015-09-14  25.976532  26.332468  25.875159  26.262633  233453600   \n",
       "100    2015-09-15  26.195053  26.251372  25.776040  26.116207  173364800   \n",
       "101    2015-09-16  26.224337  26.253622  26.005819  26.188292  148694000   \n",
       "102    2015-09-17  25.663399  26.242357  25.618344  26.055380  256450400   \n",
       "\n",
       "Price      MA_100  \n",
       "Ticker             \n",
       "0             NaN  \n",
       "1             NaN  \n",
       "2             NaN  \n",
       "3             NaN  \n",
       "4             NaN  \n",
       "..            ...  \n",
       "98            NaN  \n",
       "99      27.618246  \n",
       "100     27.590608  \n",
       "101     27.561900  \n",
       "102     27.522290  \n",
       "\n",
       "[103 rows x 7 columns]"
      ]
     },
     "execution_count": 20,
     "metadata": {},
     "output_type": "execute_result"
    }
   ],
   "source": [
    "df.head(103)"
   ]
  },
  {
   "cell_type": "code",
   "execution_count": 21,
   "id": "7b622af7-7b9a-4c85-b0e3-fea67f8198ab",
   "metadata": {},
   "outputs": [
    {
     "data": {
      "text/plain": [
       "Text(0, 0.5, 'Price')"
      ]
     },
     "execution_count": 21,
     "metadata": {},
     "output_type": "execute_result"
    },
    {
     "data": {
      "image/png": "[encoded data removed]",
      "text/plain": [
       "<Figure size 1200x500 with 1 Axes>"
      ]
     },
     "metadata": {},
     "output_type": "display_data"
    }
   ],
   "source": [
    "plt.figure(figsize=(12, 5))\n",
    "plt.plot(df.Close)\n",
    "plt.plot(df['MA_100'], 'r')\n",
    "plt.title('100 Days Moving Average')\n",
    "plt.xlabel('Days')\n",
    "plt.ylabel('Price')"
   ]
  },
  {
   "cell_type": "markdown",
   "id": "50ec8881-1b21-4649-8363-176e7f894784",
   "metadata": {},
   "source": [
    "### 200 days Moving Average"
   ]
  },
  {
   "cell_type": "code",
   "execution_count": 22,
   "id": "9e9958f4-ab6a-4bd6-b449-82b3d4bb0a17",
   "metadata": {},
   "outputs": [
    {
     "data": {
      "text/html": [
       "<div>\n",
       "<style scoped>\n",
       "    .dataframe tbody tr th:only-of-type {\n",
       "        vertical-align: middle;\n",
       "    }\n",
       "\n",
       "    .dataframe tbody tr th {\n",
       "        vertical-align: top;\n",
       "    }\n",
       "\n",
       "    .dataframe thead tr th {\n",
       "        text-align: left;\n",
       "    }\n",
       "</style>\n",
       "<table border=\"1\" class=\"dataframe\">\n",
       "  <thead>\n",
       "    <tr>\n",
       "      <th>Price</th>\n",
       "      <th>Date</th>\n",
       "      <th>Close</th>\n",
       "      <th>High</th>\n",
       "      <th>Low</th>\n",
       "      <th>Open</th>\n",
       "      <th>Volume</th>\n",
       "      <th>MA_100</th>\n",
       "      <th>MA_200</th>\n",
       "    </tr>\n",
       "    <tr>\n",
       "      <th>Ticker</th>\n",
       "      <th></th>\n",
       "      <th>AAPL</th>\n",
       "      <th>AAPL</th>\n",
       "      <th>AAPL</th>\n",
       "      <th>AAPL</th>\n",
       "      <th>AAPL</th>\n",
       "      <th></th>\n",
       "      <th></th>\n",
       "    </tr>\n",
       "  </thead>\n",
       "  <tbody>\n",
       "    <tr>\n",
       "      <th>0</th>\n",
       "      <td>2015-04-23</td>\n",
       "      <td>28.958900</td>\n",
       "      <td>29.126396</td>\n",
       "      <td>28.617209</td>\n",
       "      <td>28.652943</td>\n",
       "      <td>183083600</td>\n",
       "      <td>NaN</td>\n",
       "      <td>NaN</td>\n",
       "    </tr>\n",
       "    <tr>\n",
       "      <th>1</th>\n",
       "      <td>2015-04-24</td>\n",
       "      <td>29.095125</td>\n",
       "      <td>29.173291</td>\n",
       "      <td>28.860630</td>\n",
       "      <td>29.142026</td>\n",
       "      <td>178103600</td>\n",
       "      <td>NaN</td>\n",
       "      <td>NaN</td>\n",
       "    </tr>\n",
       "    <tr>\n",
       "      <th>2</th>\n",
       "      <td>2015-04-27</td>\n",
       "      <td>29.624413</td>\n",
       "      <td>29.731612</td>\n",
       "      <td>29.289421</td>\n",
       "      <td>29.548482</td>\n",
       "      <td>387816800</td>\n",
       "      <td>NaN</td>\n",
       "      <td>NaN</td>\n",
       "    </tr>\n",
       "    <tr>\n",
       "      <th>3</th>\n",
       "      <td>2015-04-28</td>\n",
       "      <td>29.157667</td>\n",
       "      <td>30.046511</td>\n",
       "      <td>28.936575</td>\n",
       "      <td>30.028647</td>\n",
       "      <td>475696000</td>\n",
       "      <td>NaN</td>\n",
       "      <td>NaN</td>\n",
       "    </tr>\n",
       "    <tr>\n",
       "      <th>4</th>\n",
       "      <td>2015-04-29</td>\n",
       "      <td>28.728874</td>\n",
       "      <td>29.387690</td>\n",
       "      <td>28.652944</td>\n",
       "      <td>29.068333</td>\n",
       "      <td>253544400</td>\n",
       "      <td>NaN</td>\n",
       "      <td>NaN</td>\n",
       "    </tr>\n",
       "    <tr>\n",
       "      <th>...</th>\n",
       "      <td>...</td>\n",
       "      <td>...</td>\n",
       "      <td>...</td>\n",
       "      <td>...</td>\n",
       "      <td>...</td>\n",
       "      <td>...</td>\n",
       "      <td>...</td>\n",
       "      <td>...</td>\n",
       "    </tr>\n",
       "    <tr>\n",
       "      <th>198</th>\n",
       "      <td>2016-02-04</td>\n",
       "      <td>21.973366</td>\n",
       "      <td>22.139418</td>\n",
       "      <td>21.652637</td>\n",
       "      <td>21.805040</td>\n",
       "      <td>185886800</td>\n",
       "      <td>24.956545</td>\n",
       "      <td>NaN</td>\n",
       "    </tr>\n",
       "    <tr>\n",
       "      <th>199</th>\n",
       "      <td>2016-02-05</td>\n",
       "      <td>21.386496</td>\n",
       "      <td>22.046152</td>\n",
       "      <td>21.311433</td>\n",
       "      <td>21.955164</td>\n",
       "      <td>185672400</td>\n",
       "      <td>24.910645</td>\n",
       "      <td>26.264445</td>\n",
       "    </tr>\n",
       "    <tr>\n",
       "      <th>200</th>\n",
       "      <td>2016-02-08</td>\n",
       "      <td>21.611694</td>\n",
       "      <td>21.768646</td>\n",
       "      <td>21.163583</td>\n",
       "      <td>21.184054</td>\n",
       "      <td>216085600</td>\n",
       "      <td>24.864811</td>\n",
       "      <td>26.227709</td>\n",
       "    </tr>\n",
       "    <tr>\n",
       "      <th>201</th>\n",
       "      <td>2016-02-09</td>\n",
       "      <td>21.607145</td>\n",
       "      <td>21.823241</td>\n",
       "      <td>21.366030</td>\n",
       "      <td>21.447919</td>\n",
       "      <td>177324800</td>\n",
       "      <td>24.818639</td>\n",
       "      <td>26.190269</td>\n",
       "    </tr>\n",
       "    <tr>\n",
       "      <th>202</th>\n",
       "      <td>2016-02-10</td>\n",
       "      <td>21.443367</td>\n",
       "      <td>21.916500</td>\n",
       "      <td>21.404698</td>\n",
       "      <td>21.818689</td>\n",
       "      <td>169374400</td>\n",
       "      <td>24.776439</td>\n",
       "      <td>26.149364</td>\n",
       "    </tr>\n",
       "  </tbody>\n",
       "</table>\n",
       "<p>203 rows × 8 columns</p>\n",
       "</div>"
      ],
      "text/plain": [
       "Price        Date      Close       High        Low       Open     Volume  \\\n",
       "Ticker                  AAPL       AAPL       AAPL       AAPL       AAPL   \n",
       "0      2015-04-23  28.958900  29.126396  28.617209  28.652943  183083600   \n",
       "1      2015-04-24  29.095125  29.173291  28.860630  29.142026  178103600   \n",
       "2      2015-04-27  29.624413  29.731612  29.289421  29.548482  387816800   \n",
       "3      2015-04-28  29.157667  30.046511  28.936575  30.028647  475696000   \n",
       "4      2015-04-29  28.728874  29.387690  28.652944  29.068333  253544400   \n",
       "..            ...        ...        ...        ...        ...        ...   \n",
       "198    2016-02-04  21.973366  22.139418  21.652637  21.805040  185886800   \n",
       "199    2016-02-05  21.386496  22.046152  21.311433  21.955164  185672400   \n",
       "200    2016-02-08  21.611694  21.768646  21.163583  21.184054  216085600   \n",
       "201    2016-02-09  21.607145  21.823241  21.366030  21.447919  177324800   \n",
       "202    2016-02-10  21.443367  21.916500  21.404698  21.818689  169374400   \n",
       "\n",
       "Price      MA_100     MA_200  \n",
       "Ticker                        \n",
       "0             NaN        NaN  \n",
       "1             NaN        NaN  \n",
       "2             NaN        NaN  \n",
       "3             NaN        NaN  \n",
       "4             NaN        NaN  \n",
       "..            ...        ...  \n",
       "198     24.956545        NaN  \n",
       "199     24.910645  26.264445  \n",
       "200     24.864811  26.227709  \n",
       "201     24.818639  26.190269  \n",
       "202     24.776439  26.149364  \n",
       "\n",
       "[203 rows x 8 columns]"
      ]
     },
     "execution_count": 22,
     "metadata": {},
     "output_type": "execute_result"
    }
   ],
   "source": [
    "df['MA_200'] = df.Close.rolling(200).mean()\n",
    "df.head(203)"
   ]
  },
  {
   "cell_type": "code",
   "execution_count": 23,
   "id": "999d7c81-3180-4099-8e43-0d2a4ead7afd",
   "metadata": {},
   "outputs": [
    {
     "data": {
      "text/plain": [
       "Text(0, 0.5, 'Price')"
      ]
     },
     "execution_count": 23,
     "metadata": {},
     "output_type": "execute_result"
    },
    {
     "data": {
      "image/png": "[encoded data removed]",
      "text/plain": [
       "<Figure size 1200x500 with 1 Axes>"
      ]
     },
     "metadata": {},
     "output_type": "display_data"
    }
   ],
   "source": [
    "plt.figure(figsize=(12, 5))\n",
    "plt.plot(df.Close)\n",
    "plt.plot(df['MA_100'], 'r')\n",
    "plt.plot(df['MA_200'], 'g')\n",
    "plt.title('200 Days Moving Average')\n",
    "plt.xlabel('Days')\n",
    "plt.ylabel('Price')"
   ]
  },
  {
   "cell_type": "code",
   "execution_count": 24,
   "id": "1d108827-ffb3-428f-9433-6820d73a085f",
   "metadata": {},
   "outputs": [
    {
     "data": {
      "text/html": [
       "<div>\n",
       "<style scoped>\n",
       "    .dataframe tbody tr th:only-of-type {\n",
       "        vertical-align: middle;\n",
       "    }\n",
       "\n",
       "    .dataframe tbody tr th {\n",
       "        vertical-align: top;\n",
       "    }\n",
       "\n",
       "    .dataframe thead tr th {\n",
       "        text-align: left;\n",
       "    }\n",
       "</style>\n",
       "<table border=\"1\" class=\"dataframe\">\n",
       "  <thead>\n",
       "    <tr>\n",
       "      <th>Price</th>\n",
       "      <th>Date</th>\n",
       "      <th>Close</th>\n",
       "      <th>High</th>\n",
       "      <th>Low</th>\n",
       "      <th>Open</th>\n",
       "      <th>Volume</th>\n",
       "      <th>MA_100</th>\n",
       "      <th>MA_200</th>\n",
       "    </tr>\n",
       "    <tr>\n",
       "      <th>Ticker</th>\n",
       "      <th></th>\n",
       "      <th>AAPL</th>\n",
       "      <th>AAPL</th>\n",
       "      <th>AAPL</th>\n",
       "      <th>AAPL</th>\n",
       "      <th>AAPL</th>\n",
       "      <th></th>\n",
       "      <th></th>\n",
       "    </tr>\n",
       "  </thead>\n",
       "  <tbody>\n",
       "    <tr>\n",
       "      <th>0</th>\n",
       "      <td>2015-04-23</td>\n",
       "      <td>28.958900</td>\n",
       "      <td>29.126396</td>\n",
       "      <td>28.617209</td>\n",
       "      <td>28.652943</td>\n",
       "      <td>183083600</td>\n",
       "      <td>NaN</td>\n",
       "      <td>NaN</td>\n",
       "    </tr>\n",
       "    <tr>\n",
       "      <th>1</th>\n",
       "      <td>2015-04-24</td>\n",
       "      <td>29.095125</td>\n",
       "      <td>29.173291</td>\n",
       "      <td>28.860630</td>\n",
       "      <td>29.142026</td>\n",
       "      <td>178103600</td>\n",
       "      <td>NaN</td>\n",
       "      <td>NaN</td>\n",
       "    </tr>\n",
       "    <tr>\n",
       "      <th>2</th>\n",
       "      <td>2015-04-27</td>\n",
       "      <td>29.624413</td>\n",
       "      <td>29.731612</td>\n",
       "      <td>29.289421</td>\n",
       "      <td>29.548482</td>\n",
       "      <td>387816800</td>\n",
       "      <td>NaN</td>\n",
       "      <td>NaN</td>\n",
       "    </tr>\n",
       "    <tr>\n",
       "      <th>3</th>\n",
       "      <td>2015-04-28</td>\n",
       "      <td>29.157667</td>\n",
       "      <td>30.046511</td>\n",
       "      <td>28.936575</td>\n",
       "      <td>30.028647</td>\n",
       "      <td>475696000</td>\n",
       "      <td>NaN</td>\n",
       "      <td>NaN</td>\n",
       "    </tr>\n",
       "    <tr>\n",
       "      <th>4</th>\n",
       "      <td>2015-04-29</td>\n",
       "      <td>28.728874</td>\n",
       "      <td>29.387690</td>\n",
       "      <td>28.652944</td>\n",
       "      <td>29.068333</td>\n",
       "      <td>253544400</td>\n",
       "      <td>NaN</td>\n",
       "      <td>NaN</td>\n",
       "    </tr>\n",
       "    <tr>\n",
       "      <th>...</th>\n",
       "      <td>...</td>\n",
       "      <td>...</td>\n",
       "      <td>...</td>\n",
       "      <td>...</td>\n",
       "      <td>...</td>\n",
       "      <td>...</td>\n",
       "      <td>...</td>\n",
       "      <td>...</td>\n",
       "    </tr>\n",
       "    <tr>\n",
       "      <th>2510</th>\n",
       "      <td>2025-04-15</td>\n",
       "      <td>202.139999</td>\n",
       "      <td>203.509995</td>\n",
       "      <td>199.800003</td>\n",
       "      <td>201.860001</td>\n",
       "      <td>51343900</td>\n",
       "      <td>231.623011</td>\n",
       "      <td>228.008007</td>\n",
       "    </tr>\n",
       "    <tr>\n",
       "      <th>2511</th>\n",
       "      <td>2025-04-16</td>\n",
       "      <td>194.270004</td>\n",
       "      <td>200.699997</td>\n",
       "      <td>192.369995</td>\n",
       "      <td>198.360001</td>\n",
       "      <td>59732400</td>\n",
       "      <td>231.285418</td>\n",
       "      <td>227.929784</td>\n",
       "    </tr>\n",
       "    <tr>\n",
       "      <th>2512</th>\n",
       "      <td>2025-04-17</td>\n",
       "      <td>196.979996</td>\n",
       "      <td>198.830002</td>\n",
       "      <td>194.419998</td>\n",
       "      <td>197.199997</td>\n",
       "      <td>51334300</td>\n",
       "      <td>230.967733</td>\n",
       "      <td>227.834564</td>\n",
       "    </tr>\n",
       "    <tr>\n",
       "      <th>2513</th>\n",
       "      <td>2025-04-21</td>\n",
       "      <td>193.160004</td>\n",
       "      <td>193.800003</td>\n",
       "      <td>189.809998</td>\n",
       "      <td>193.270004</td>\n",
       "      <td>46742500</td>\n",
       "      <td>230.616643</td>\n",
       "      <td>227.702704</td>\n",
       "    </tr>\n",
       "    <tr>\n",
       "      <th>2514</th>\n",
       "      <td>2025-04-22</td>\n",
       "      <td>199.740005</td>\n",
       "      <td>201.589996</td>\n",
       "      <td>195.970001</td>\n",
       "      <td>196.119995</td>\n",
       "      <td>52660200</td>\n",
       "      <td>230.317868</td>\n",
       "      <td>227.597364</td>\n",
       "    </tr>\n",
       "  </tbody>\n",
       "</table>\n",
       "<p>2515 rows × 8 columns</p>\n",
       "</div>"
      ],
      "text/plain": [
       "Price        Date       Close        High         Low        Open     Volume  \\\n",
       "Ticker                   AAPL        AAPL        AAPL        AAPL       AAPL   \n",
       "0      2015-04-23   28.958900   29.126396   28.617209   28.652943  183083600   \n",
       "1      2015-04-24   29.095125   29.173291   28.860630   29.142026  178103600   \n",
       "2      2015-04-27   29.624413   29.731612   29.289421   29.548482  387816800   \n",
       "3      2015-04-28   29.157667   30.046511   28.936575   30.028647  475696000   \n",
       "4      2015-04-29   28.728874   29.387690   28.652944   29.068333  253544400   \n",
       "...           ...         ...         ...         ...         ...        ...   \n",
       "2510   2025-04-15  202.139999  203.509995  199.800003  201.860001   51343900   \n",
       "2511   2025-04-16  194.270004  200.699997  192.369995  198.360001   59732400   \n",
       "2512   2025-04-17  196.979996  198.830002  194.419998  197.199997   51334300   \n",
       "2513   2025-04-21  193.160004  193.800003  189.809998  193.270004   46742500   \n",
       "2514   2025-04-22  199.740005  201.589996  195.970001  196.119995   52660200   \n",
       "\n",
       "Price       MA_100      MA_200  \n",
       "Ticker                          \n",
       "0              NaN         NaN  \n",
       "1              NaN         NaN  \n",
       "2              NaN         NaN  \n",
       "3              NaN         NaN  \n",
       "4              NaN         NaN  \n",
       "...            ...         ...  \n",
       "2510    231.623011  228.008007  \n",
       "2511    231.285418  227.929784  \n",
       "2512    230.967733  227.834564  \n",
       "2513    230.616643  227.702704  \n",
       "2514    230.317868  227.597364  \n",
       "\n",
       "[2515 rows x 8 columns]"
      ]
     },
     "execution_count": 24,
     "metadata": {},
     "output_type": "execute_result"
    }
   ],
   "source": [
    "df"
   ]
  },
  {
   "cell_type": "code",
   "execution_count": null,
   "id": "072d8996-8dcd-4a3e-ba44-c7a248ac6a45",
   "metadata": {},
   "outputs": [],
   "source": []
  },
  {
   "cell_type": "markdown",
   "id": "6817580d-cd5b-4658-9da3-29d48e5f8897",
   "metadata": {},
   "source": [
    "### Calculating % changed in each trading session"
   ]
  },
  {
   "cell_type": "code",
   "execution_count": 25,
   "id": "e927d538-dabc-4f49-a8d6-74856b6804e9",
   "metadata": {},
   "outputs": [
    {
     "data": {
      "text/html": [
       "<div>\n",
       "<style scoped>\n",
       "    .dataframe tbody tr th:only-of-type {\n",
       "        vertical-align: middle;\n",
       "    }\n",
       "\n",
       "    .dataframe tbody tr th {\n",
       "        vertical-align: top;\n",
       "    }\n",
       "\n",
       "    .dataframe thead tr th {\n",
       "        text-align: left;\n",
       "    }\n",
       "</style>\n",
       "<table border=\"1\" class=\"dataframe\">\n",
       "  <thead>\n",
       "    <tr>\n",
       "      <th>Price</th>\n",
       "      <th>Close</th>\n",
       "      <th>Percentage Chaged</th>\n",
       "    </tr>\n",
       "    <tr>\n",
       "      <th>Ticker</th>\n",
       "      <th>AAPL</th>\n",
       "      <th></th>\n",
       "    </tr>\n",
       "  </thead>\n",
       "  <tbody>\n",
       "    <tr>\n",
       "      <th>0</th>\n",
       "      <td>28.958900</td>\n",
       "      <td>NaN</td>\n",
       "    </tr>\n",
       "    <tr>\n",
       "      <th>1</th>\n",
       "      <td>29.095125</td>\n",
       "      <td>0.004704</td>\n",
       "    </tr>\n",
       "    <tr>\n",
       "      <th>2</th>\n",
       "      <td>29.624413</td>\n",
       "      <td>0.018192</td>\n",
       "    </tr>\n",
       "    <tr>\n",
       "      <th>3</th>\n",
       "      <td>29.157667</td>\n",
       "      <td>-0.015755</td>\n",
       "    </tr>\n",
       "    <tr>\n",
       "      <th>4</th>\n",
       "      <td>28.728874</td>\n",
       "      <td>-0.014706</td>\n",
       "    </tr>\n",
       "    <tr>\n",
       "      <th>...</th>\n",
       "      <td>...</td>\n",
       "      <td>...</td>\n",
       "    </tr>\n",
       "    <tr>\n",
       "      <th>2510</th>\n",
       "      <td>202.139999</td>\n",
       "      <td>-0.001876</td>\n",
       "    </tr>\n",
       "    <tr>\n",
       "      <th>2511</th>\n",
       "      <td>194.270004</td>\n",
       "      <td>-0.038933</td>\n",
       "    </tr>\n",
       "    <tr>\n",
       "      <th>2512</th>\n",
       "      <td>196.979996</td>\n",
       "      <td>0.013950</td>\n",
       "    </tr>\n",
       "    <tr>\n",
       "      <th>2513</th>\n",
       "      <td>193.160004</td>\n",
       "      <td>-0.019393</td>\n",
       "    </tr>\n",
       "    <tr>\n",
       "      <th>2514</th>\n",
       "      <td>199.740005</td>\n",
       "      <td>0.034065</td>\n",
       "    </tr>\n",
       "  </tbody>\n",
       "</table>\n",
       "<p>2515 rows × 2 columns</p>\n",
       "</div>"
      ],
      "text/plain": [
       "Price        Close Percentage Chaged\n",
       "Ticker        AAPL                  \n",
       "0        28.958900               NaN\n",
       "1        29.095125          0.004704\n",
       "2        29.624413          0.018192\n",
       "3        29.157667         -0.015755\n",
       "4        28.728874         -0.014706\n",
       "...            ...               ...\n",
       "2510    202.139999         -0.001876\n",
       "2511    194.270004         -0.038933\n",
       "2512    196.979996          0.013950\n",
       "2513    193.160004         -0.019393\n",
       "2514    199.740005          0.034065\n",
       "\n",
       "[2515 rows x 2 columns]"
      ]
     },
     "execution_count": 25,
     "metadata": {},
     "output_type": "execute_result"
    }
   ],
   "source": [
    "df['Percentage Chaged'] = df.Close.pct_change()\n",
    "df[['Close', 'Percentage Chaged']]"
   ]
  },
  {
   "cell_type": "code",
   "execution_count": 26,
   "id": "a286fdc8-dafc-4eaa-93f5-353b100c6bbd",
   "metadata": {},
   "outputs": [
    {
     "data": {
      "text/plain": [
       "[<matplotlib.lines.Line2D at 0x142c6bf40>]"
      ]
     },
     "execution_count": 26,
     "metadata": {},
     "output_type": "execute_result"
    },
    {
     "data": {
      "image/png": "[encoded data removed]",
      "text/plain": [
       "<Figure size 1200x500 with 1 Axes>"
      ]
     },
     "metadata": {},
     "output_type": "display_data"
    }
   ],
   "source": [
    "plt.figure(figsize=(12, 5))\n",
    "plt.plot(df['Percentage Chaged'])"
   ]
  },
  {
   "cell_type": "code",
   "execution_count": null,
   "id": "18d0be41-f9be-4b50-86be-63174255542b",
   "metadata": {},
   "outputs": [],
   "source": []
  },
  {
   "cell_type": "markdown",
   "id": "6cc4020b-1c81-47d6-9b3b-a005d5766c8b",
   "metadata": {},
   "source": [
    "# 4. Data Preprocessing"
   ]
  },
  {
   "cell_type": "code",
   "execution_count": 27,
   "id": "93209280-446b-497a-a559-0690180ea4a2",
   "metadata": {},
   "outputs": [
    {
     "data": {
      "text/plain": [
       "(2515, 9)"
      ]
     },
     "execution_count": 27,
     "metadata": {},
     "output_type": "execute_result"
    }
   ],
   "source": [
    "df.shape"
   ]
  },
  {
   "cell_type": "code",
   "execution_count": 28,
   "id": "689ebd7d-14dc-4b5d-a4dd-e66f740a72e5",
   "metadata": {},
   "outputs": [
    {
     "name": "stdout",
     "output_type": "stream",
     "text": [
      "Ticker        AAPL\n",
      "0        28.958900\n",
      "1        29.095125\n",
      "2        29.624413\n",
      "3        29.157667\n",
      "4        28.728874\n",
      "...            ...\n",
      "1755    163.107101\n",
      "1756    164.986679\n",
      "1757    167.682953\n",
      "1758    162.654419\n",
      "1759    162.437943\n",
      "\n",
      "[1760 rows x 1 columns]\n",
      "Ticker        AAPL\n",
      "1760    164.730743\n",
      "1761    164.563461\n",
      "1762    163.766418\n",
      "1763    159.210236\n",
      "1764    160.282852\n",
      "...            ...\n",
      "2510    202.139999\n",
      "2511    194.270004\n",
      "2512    196.979996\n",
      "2513    193.160004\n",
      "2514    199.740005\n",
      "\n",
      "[755 rows x 1 columns]\n"
     ]
    }
   ],
   "source": [
    "# Splitting data into Training & Testing datasets\n",
    "data_training = pd.DataFrame(df.Close[0:int(len(df)*0.7)])\n",
    "data_testing = pd.DataFrame(df.Close[int(len(df)*0.7): int(len(df))])\n",
    "\n",
    "print(data_training)\n",
    "print(data_testing)"
   ]
  },
  {
   "cell_type": "code",
   "execution_count": 29,
   "id": "22255435-4450-4f22-bd39-0375c987237e",
   "metadata": {},
   "outputs": [
    {
     "data": {
      "text/plain": [
       "pandas.core.frame.DataFrame"
      ]
     },
     "execution_count": 29,
     "metadata": {},
     "output_type": "execute_result"
    }
   ],
   "source": [
    "type(data_training)"
   ]
  },
  {
   "cell_type": "code",
   "execution_count": 30,
   "id": "f76664ed-fc72-4075-8ae8-14d01cae639e",
   "metadata": {},
   "outputs": [
    {
     "data": {
      "text/html": [
       "<div>\n",
       "<style scoped>\n",
       "    .dataframe tbody tr th:only-of-type {\n",
       "        vertical-align: middle;\n",
       "    }\n",
       "\n",
       "    .dataframe tbody tr th {\n",
       "        vertical-align: top;\n",
       "    }\n",
       "\n",
       "    .dataframe thead th {\n",
       "        text-align: right;\n",
       "    }\n",
       "</style>\n",
       "<table border=\"1\" class=\"dataframe\">\n",
       "  <thead>\n",
       "    <tr style=\"text-align: right;\">\n",
       "      <th>Ticker</th>\n",
       "      <th>AAPL</th>\n",
       "    </tr>\n",
       "  </thead>\n",
       "  <tbody>\n",
       "    <tr>\n",
       "      <th>0</th>\n",
       "      <td>28.958900</td>\n",
       "    </tr>\n",
       "    <tr>\n",
       "      <th>1</th>\n",
       "      <td>29.095125</td>\n",
       "    </tr>\n",
       "    <tr>\n",
       "      <th>2</th>\n",
       "      <td>29.624413</td>\n",
       "    </tr>\n",
       "    <tr>\n",
       "      <th>3</th>\n",
       "      <td>29.157667</td>\n",
       "    </tr>\n",
       "    <tr>\n",
       "      <th>4</th>\n",
       "      <td>28.728874</td>\n",
       "    </tr>\n",
       "    <tr>\n",
       "      <th>...</th>\n",
       "      <td>...</td>\n",
       "    </tr>\n",
       "    <tr>\n",
       "      <th>1755</th>\n",
       "      <td>163.107101</td>\n",
       "    </tr>\n",
       "    <tr>\n",
       "      <th>1756</th>\n",
       "      <td>164.986679</td>\n",
       "    </tr>\n",
       "    <tr>\n",
       "      <th>1757</th>\n",
       "      <td>167.682953</td>\n",
       "    </tr>\n",
       "    <tr>\n",
       "      <th>1758</th>\n",
       "      <td>162.654419</td>\n",
       "    </tr>\n",
       "    <tr>\n",
       "      <th>1759</th>\n",
       "      <td>162.437943</td>\n",
       "    </tr>\n",
       "  </tbody>\n",
       "</table>\n",
       "<p>1760 rows × 1 columns</p>\n",
       "</div>"
      ],
      "text/plain": [
       "Ticker        AAPL\n",
       "0        28.958900\n",
       "1        29.095125\n",
       "2        29.624413\n",
       "3        29.157667\n",
       "4        28.728874\n",
       "...            ...\n",
       "1755    163.107101\n",
       "1756    164.986679\n",
       "1757    167.682953\n",
       "1758    162.654419\n",
       "1759    162.437943\n",
       "\n",
       "[1760 rows x 1 columns]"
      ]
     },
     "execution_count": 30,
     "metadata": {},
     "output_type": "execute_result"
    }
   ],
   "source": [
    "data_training"
   ]
  },
  {
   "cell_type": "code",
   "execution_count": 31,
   "id": "ca8224cc-6457-4d63-a688-abe3de7c67bc",
   "metadata": {},
   "outputs": [
    {
     "data": {
      "text/html": [
       "<div>\n",
       "<style scoped>\n",
       "    .dataframe tbody tr th:only-of-type {\n",
       "        vertical-align: middle;\n",
       "    }\n",
       "\n",
       "    .dataframe tbody tr th {\n",
       "        vertical-align: top;\n",
       "    }\n",
       "\n",
       "    .dataframe thead th {\n",
       "        text-align: right;\n",
       "    }\n",
       "</style>\n",
       "<table border=\"1\" class=\"dataframe\">\n",
       "  <thead>\n",
       "    <tr style=\"text-align: right;\">\n",
       "      <th>Ticker</th>\n",
       "      <th>AAPL</th>\n",
       "    </tr>\n",
       "  </thead>\n",
       "  <tbody>\n",
       "    <tr>\n",
       "      <th>1760</th>\n",
       "      <td>164.730743</td>\n",
       "    </tr>\n",
       "    <tr>\n",
       "      <th>1761</th>\n",
       "      <td>164.563461</td>\n",
       "    </tr>\n",
       "    <tr>\n",
       "      <th>1762</th>\n",
       "      <td>163.766418</td>\n",
       "    </tr>\n",
       "    <tr>\n",
       "      <th>1763</th>\n",
       "      <td>159.210236</td>\n",
       "    </tr>\n",
       "    <tr>\n",
       "      <th>1764</th>\n",
       "      <td>160.282852</td>\n",
       "    </tr>\n",
       "    <tr>\n",
       "      <th>...</th>\n",
       "      <td>...</td>\n",
       "    </tr>\n",
       "    <tr>\n",
       "      <th>2510</th>\n",
       "      <td>202.139999</td>\n",
       "    </tr>\n",
       "    <tr>\n",
       "      <th>2511</th>\n",
       "      <td>194.270004</td>\n",
       "    </tr>\n",
       "    <tr>\n",
       "      <th>2512</th>\n",
       "      <td>196.979996</td>\n",
       "    </tr>\n",
       "    <tr>\n",
       "      <th>2513</th>\n",
       "      <td>193.160004</td>\n",
       "    </tr>\n",
       "    <tr>\n",
       "      <th>2514</th>\n",
       "      <td>199.740005</td>\n",
       "    </tr>\n",
       "  </tbody>\n",
       "</table>\n",
       "<p>755 rows × 1 columns</p>\n",
       "</div>"
      ],
      "text/plain": [
       "Ticker        AAPL\n",
       "1760    164.730743\n",
       "1761    164.563461\n",
       "1762    163.766418\n",
       "1763    159.210236\n",
       "1764    160.282852\n",
       "...            ...\n",
       "2510    202.139999\n",
       "2511    194.270004\n",
       "2512    196.979996\n",
       "2513    193.160004\n",
       "2514    199.740005\n",
       "\n",
       "[755 rows x 1 columns]"
      ]
     },
     "execution_count": 31,
     "metadata": {},
     "output_type": "execute_result"
    }
   ],
   "source": [
    "data_testing"
   ]
  },
  {
   "cell_type": "code",
   "execution_count": 32,
   "id": "e201e5e2-3600-4e90-90a8-eb40636a1830",
   "metadata": {},
   "outputs": [],
   "source": [
    "# Scaling down the data between 0 and 1"
   ]
  },
  {
   "cell_type": "code",
   "execution_count": 33,
   "id": "8712c658-1104-437b-9616-8a7db7b62723",
   "metadata": {},
   "outputs": [],
   "source": [
    "from sklearn.preprocessing import MinMaxScaler\n",
    "scaler = MinMaxScaler(feature_range=(0,1))"
   ]
  },
  {
   "cell_type": "code",
   "execution_count": 34,
   "id": "9d84aff7-1d6f-4c30-ae18-23633fe8c0e5",
   "metadata": {},
   "outputs": [
    {
     "data": {
      "text/plain": [
       "array([[0.05236467],\n",
       "       [0.05322573],\n",
       "       [0.05657131],\n",
       "       ...,\n",
       "       [0.92922525],\n",
       "       [0.8974404 ],\n",
       "       [0.89607208]])"
      ]
     },
     "execution_count": 34,
     "metadata": {},
     "output_type": "execute_result"
    }
   ],
   "source": [
    "data_training_array = scaler.fit_transform(data_training)\n",
    "data_training_array"
   ]
  },
  {
   "cell_type": "code",
   "execution_count": 35,
   "id": "149395b0-80ea-4db5-bd51-43c342089550",
   "metadata": {},
   "outputs": [
    {
     "data": {
      "text/plain": [
       "numpy.ndarray"
      ]
     },
     "execution_count": 35,
     "metadata": {},
     "output_type": "execute_result"
    }
   ],
   "source": [
    "type(data_training_array)"
   ]
  },
  {
   "cell_type": "code",
   "execution_count": 36,
   "id": "08e8ad00-ee92-443f-80d3-147cc2d9dcc5",
   "metadata": {},
   "outputs": [
    {
     "data": {
      "text/plain": [
       "(1760, 1)"
      ]
     },
     "execution_count": 36,
     "metadata": {},
     "output_type": "execute_result"
    }
   ],
   "source": [
    "data_training_array.shape"
   ]
  },
  {
   "cell_type": "code",
   "execution_count": null,
   "id": "a8c44a16-4fe4-43dc-be99-cbc5a0f8dcb8",
   "metadata": {},
   "outputs": [],
   "source": []
  },
  {
   "cell_type": "markdown",
   "id": "c69f0462-fd02-4f01-a4ef-0a4f42f12bf4",
   "metadata": {},
   "source": [
    "# 5. Sequence Creation"
   ]
  },
  {
   "cell_type": "code",
   "execution_count": 37,
   "id": "8f046563-1e01-478d-abff-daa2506cd4a4",
   "metadata": {},
   "outputs": [],
   "source": [
    "# 12, 15, 10, 14, 16, 18, 19, 20, 21, 20      22"
   ]
  },
  {
   "cell_type": "code",
   "execution_count": null,
   "id": "32a3e55d-7c76-4ddf-a781-dd886e5e14d1",
   "metadata": {},
   "outputs": [],
   "source": []
  },
  {
   "cell_type": "code",
   "execution_count": 38,
   "id": "f115ea2c-4d24-45d4-8c20-cd4919f46457",
   "metadata": {},
   "outputs": [],
   "source": [
    "x_train = []\n",
    "y_train = []\n",
    "\n",
    "for i in range(100, data_training_array.shape[0]):\n",
    "    x_train.append(data_training_array[i-100: i])\n",
    "    y_train.append(data_training_array[i, 0])\n",
    "\n",
    "\n",
    "x_train, y_train = np.array(x_train), np.array(y_train)"
   ]
  },
  {
   "cell_type": "code",
   "execution_count": 39,
   "id": "5e6d7cc8-7f39-46ab-b8ca-023b89316915",
   "metadata": {},
   "outputs": [
    {
     "data": {
      "text/plain": [
       "array([[[0.05236467],\n",
       "        [0.05322573],\n",
       "        [0.05657131],\n",
       "        ...,\n",
       "        [0.02961187],\n",
       "        [0.0319471 ],\n",
       "        [0.03351343]],\n",
       "\n",
       "       [[0.05322573],\n",
       "        [0.05657131],\n",
       "        [0.05362106],\n",
       "        ...,\n",
       "        [0.0319471 ],\n",
       "        [0.03351343],\n",
       "        [0.03489468]],\n",
       "\n",
       "       [[0.05657131],\n",
       "        [0.05362106],\n",
       "        [0.0509107 ],\n",
       "        ...,\n",
       "        [0.03351343],\n",
       "        [0.03489468],\n",
       "        [0.03507977]],\n",
       "\n",
       "       ...,\n",
       "\n",
       "       [[0.85003781],\n",
       "        [0.86668631],\n",
       "        [0.86960621],\n",
       "        ...,\n",
       "        [0.92729694],\n",
       "        [0.90030176],\n",
       "        [0.91218238]],\n",
       "\n",
       "       [[0.86668631],\n",
       "        [0.86960621],\n",
       "        [0.87202882],\n",
       "        ...,\n",
       "        [0.90030176],\n",
       "        [0.91218238],\n",
       "        [0.92922525]],\n",
       "\n",
       "       [[0.86960621],\n",
       "        [0.87202882],\n",
       "        [0.87532141],\n",
       "        ...,\n",
       "        [0.91218238],\n",
       "        [0.92922525],\n",
       "        [0.8974404 ]]])"
      ]
     },
     "execution_count": 39,
     "metadata": {},
     "output_type": "execute_result"
    }
   ],
   "source": [
    "x_train"
   ]
  },
  {
   "cell_type": "code",
   "execution_count": 40,
   "id": "1114f403-0fb1-4123-aa2c-6c3e24363ad5",
   "metadata": {},
   "outputs": [
    {
     "data": {
      "text/plain": [
       "array([0.03489468, 0.03507977, 0.03153414, ..., 0.92922525, 0.8974404 ,\n",
       "       0.89607208])"
      ]
     },
     "execution_count": 40,
     "metadata": {},
     "output_type": "execute_result"
    }
   ],
   "source": [
    "y_train"
   ]
  },
  {
   "cell_type": "code",
   "execution_count": 41,
   "id": "fd21cb94-68f3-497a-a99b-1e3478d552ff",
   "metadata": {},
   "outputs": [
    {
     "data": {
      "text/plain": [
       "(1660, 100, 1)"
      ]
     },
     "execution_count": 41,
     "metadata": {},
     "output_type": "execute_result"
    }
   ],
   "source": [
    "x_train.shape"
   ]
  },
  {
   "cell_type": "code",
   "execution_count": 42,
   "id": "2dfba926-5fea-4e7c-818b-6af646088a77",
   "metadata": {},
   "outputs": [
    {
     "data": {
      "text/plain": [
       "(1660,)"
      ]
     },
     "execution_count": 42,
     "metadata": {},
     "output_type": "execute_result"
    }
   ],
   "source": [
    "y_train.shape"
   ]
  },
  {
   "cell_type": "code",
   "execution_count": 43,
   "id": "150c62df-2ddd-43ae-8f7c-ff38bdfd1d9f",
   "metadata": {},
   "outputs": [
    {
     "data": {
      "text/plain": [
       "3"
      ]
     },
     "execution_count": 43,
     "metadata": {},
     "output_type": "execute_result"
    }
   ],
   "source": [
    "x_train.ndim"
   ]
  },
  {
   "cell_type": "code",
   "execution_count": null,
   "id": "8f88c49b-cf20-4f59-aaee-60884478924a",
   "metadata": {},
   "outputs": [],
   "source": []
  },
  {
   "cell_type": "markdown",
   "id": "65e68ef1-af5c-40fe-a987-9306c8ace742",
   "metadata": {},
   "source": [
    "# 6. Model Building"
   ]
  },
  {
   "cell_type": "code",
   "execution_count": 44,
   "id": "7d9d776d-5b20-42ba-ad65-be67c51dca3c",
   "metadata": {},
   "outputs": [
    {
     "name": "stdout",
     "output_type": "stream",
     "text": [
      "2.16.2\n"
     ]
    }
   ],
   "source": [
    "import tensorflow as tf\n",
    "print(tf.__version__)"
   ]
  },
  {
   "cell_type": "code",
   "execution_count": 45,
   "id": "8420e886-239c-48f1-bfd7-196642ed488c",
   "metadata": {},
   "outputs": [],
   "source": [
    "# ML Model\n",
    "from keras.models import Sequential\n",
    "from keras.layers import Dense, LSTM, Input"
   ]
  },
  {
   "cell_type": "code",
   "execution_count": 46,
   "id": "3cea4c41-5f8b-4360-854e-5e3934728ad5",
   "metadata": {},
   "outputs": [],
   "source": [
    "model = Sequential()\n",
    "\n",
    "model.add(Input(shape=(100, 1)))\n",
    "model.add(LSTM(units=128, activation='tanh', return_sequences=True))\n",
    "model.add(LSTM(units=64))\n",
    "model.add(Dense(25))\n",
    "model.add(Dense(1))"
   ]
  },
  {
   "cell_type": "code",
   "execution_count": null,
   "id": "ab2c28d6-1e34-46bf-b51b-b45ed4e87ef9",
   "metadata": {},
   "outputs": [],
   "source": []
  },
  {
   "cell_type": "markdown",
   "id": "de748527-e326-45ea-b36f-2f1dd8d4336f",
   "metadata": {},
   "source": [
    "# 7. Model Training"
   ]
  },
  {
   "cell_type": "code",
   "execution_count": null,
   "id": "16d54ce3-c5e0-4586-9161-7f78432c5b5d",
   "metadata": {},
   "outputs": [
    {
     "name": "stdout",
     "output_type": "stream",
     "text": [
      "Epoch 1/50\n",
      "\u001b[1m52/52\u001b[0m \u001b[32m━━━━━━━━━━━━━━━━━━━━\u001b[0m\u001b[37m\u001b[0m \u001b[1m26s\u001b[0m 373ms/step - loss: 0.0407\n",
      "Epoch 2/50\n",
      "\u001b[1m52/52\u001b[0m \u001b[32m━━━━━━━━━━━━━━━━━━━━\u001b[0m\u001b[37m\u001b[0m \u001b[1m22s\u001b[0m 430ms/step - loss: 4.4740e-04\n",
      "Epoch 3/50\n",
      "\u001b[1m52/52\u001b[0m \u001b[32m━━━━━━━━━━━━━━━━━━━━\u001b[0m\u001b[37m\u001b[0m \u001b[1m23s\u001b[0m 432ms/step - loss: 4.2122e-04\n",
      "Epoch 4/50\n",
      "\u001b[1m52/52\u001b[0m \u001b[32m━━━━━━━━━━━━━━━━━━━━\u001b[0m\u001b[37m\u001b[0m \u001b[1m11s\u001b[0m 207ms/step - loss: 4.1745e-04\n",
      "Epoch 5/50\n",
      "\u001b[1m52/52\u001b[0m \u001b[32m━━━━━━━━━━━━━━━━━━━━\u001b[0m\u001b[37m\u001b[0m \u001b[1m5s\u001b[0m 88ms/step - loss: 4.8865e-04 \n",
      "Epoch 6/50\n",
      "\u001b[1m50/52\u001b[0m \u001b[32m━━━━━━━━━━━━━━━━━━━\u001b[0m\u001b[37m━\u001b[0m \u001b[1m0s\u001b[0m 83ms/step - loss: 3.4984e-04"
     ]
    }
   ],
   "source": [
    "model.compile(optimizer='adam', loss='mean_squared_error')\n",
    "model.fit(x_train, y_train, epochs=50)"
   ]
  },
  {
   "cell_type": "code",
   "execution_count": null,
   "id": "c5301404-b22e-44c6-b6b7-76c17038c1cc",
   "metadata": {},
   "outputs": [],
   "source": [
    "model.summary()"
   ]
  },
  {
   "cell_type": "code",
   "execution_count": null,
   "id": "2f722e5c-9d3a-488c-9570-1ae9d95f2cfc",
   "metadata": {},
   "outputs": [],
   "source": [
    "# Save the trained model\n",
    "model.save('stock_prediction_model.keras')"
   ]
  },
  {
   "cell_type": "code",
   "execution_count": null,
   "id": "a738baac-9d98-451f-abfe-4d797e484f15",
   "metadata": {},
   "outputs": [],
   "source": []
  },
  {
   "cell_type": "markdown",
   "id": "75eeac7a-9e29-4da4-af04-987aca444c14",
   "metadata": {},
   "source": [
    "# 8. Preparing Test Data"
   ]
  },
  {
   "cell_type": "code",
   "execution_count": null,
   "id": "4ac076e2-5545-4b9e-b236-bc584a5ca9fc",
   "metadata": {},
   "outputs": [],
   "source": [
    "data_training.tail(100)"
   ]
  },
  {
   "cell_type": "code",
   "execution_count": null,
   "id": "93596586-ece5-4b78-b318-ef6714d305fc",
   "metadata": {},
   "outputs": [],
   "source": [
    "data_testing"
   ]
  },
  {
   "cell_type": "code",
   "execution_count": null,
   "id": "1c51c47d-6f0b-4954-87da-9dd0a0b51e74",
   "metadata": {},
   "outputs": [],
   "source": [
    "past_100_days = data_training.tail(100)"
   ]
  },
  {
   "cell_type": "code",
   "execution_count": null,
   "id": "cbd88b07-927c-4d69-adff-941bb12a004a",
   "metadata": {},
   "outputs": [],
   "source": [
    "past_100_days"
   ]
  },
  {
   "cell_type": "code",
   "execution_count": null,
   "id": "c32a8da1-b3b8-4790-a825-938e7e449fff",
   "metadata": {},
   "outputs": [],
   "source": [
    "final_df = pd.concat([past_100_days, data_testing], ignore_index=True)\n",
    "final_df"
   ]
  },
  {
   "cell_type": "code",
   "execution_count": null,
   "id": "065c697f-0892-4cc9-8965-657381482e85",
   "metadata": {},
   "outputs": [],
   "source": [
    "input_data = scaler.fit_transform(final_df)\n",
    "# input_data"
   ]
  },
  {
   "cell_type": "code",
   "execution_count": null,
   "id": "5f807bba-ceb7-440b-b610-0c01a4bfecf5",
   "metadata": {},
   "outputs": [],
   "source": [
    "input_data.shape"
   ]
  },
  {
   "cell_type": "code",
   "execution_count": null,
   "id": "a8a7a82a-2247-48f4-8238-cdd13128d509",
   "metadata": {},
   "outputs": [],
   "source": [
    "x_test = []\n",
    "y_test = []\n",
    "\n",
    "for i in range(100, input_data.shape[0]):\n",
    "    x_test.append(input_data[i-100: i])\n",
    "    y_test.append(input_data[i, 0])"
   ]
  },
  {
   "cell_type": "code",
   "execution_count": null,
   "id": "24e093a0-c0dd-4117-82d5-8aee77040d6e",
   "metadata": {},
   "outputs": [],
   "source": [
    "x_test, y_test = np.array(x_test), np.array(y_test)"
   ]
  },
  {
   "cell_type": "code",
   "execution_count": null,
   "id": "cbce9d30-38b4-48be-bc84-5992157380b5",
   "metadata": {},
   "outputs": [],
   "source": [
    "x_test[0].shape"
   ]
  },
  {
   "cell_type": "code",
   "execution_count": null,
   "id": "969bb9aa-443d-47af-9c40-ddb8f57a56c3",
   "metadata": {},
   "outputs": [],
   "source": [
    "x_test"
   ]
  },
  {
   "cell_type": "markdown",
   "id": "c6ecff8c-3802-407b-a8bf-6634bbcf79c1",
   "metadata": {},
   "source": [
    "# 9. Making Predictions"
   ]
  },
  {
   "cell_type": "code",
   "execution_count": null,
   "id": "dcd435d0-4782-4f29-960e-466148a6421a",
   "metadata": {},
   "outputs": [],
   "source": [
    "y_predicted = model.predict(x_test)"
   ]
  },
  {
   "cell_type": "code",
   "execution_count": null,
   "id": "c85420bc-2ca8-4c4f-989d-8168430e9280",
   "metadata": {},
   "outputs": [],
   "source": [
    "# y_predicted"
   ]
  },
  {
   "cell_type": "code",
   "execution_count": null,
   "id": "c1776042-cb38-4685-8a3e-203427bd1868",
   "metadata": {},
   "outputs": [],
   "source": [
    "# y_test"
   ]
  },
  {
   "cell_type": "code",
   "execution_count": null,
   "id": "0dd9a941-451c-4f05-aa3a-79be46cb4af3",
   "metadata": {},
   "outputs": [],
   "source": []
  },
  {
   "cell_type": "code",
   "execution_count": null,
   "id": "4d4f399f-159e-4e2f-b4e2-62cc7d6bcdda",
   "metadata": {},
   "outputs": [],
   "source": [
    "y_predicted = scaler.inverse_transform(y_predicted.reshape(-1, 1)).flatten()\n",
    "y_test = scaler.inverse_transform(y_test.reshape(-1, 1)).flatten()"
   ]
  },
  {
   "cell_type": "code",
   "execution_count": null,
   "id": "2496a397-6551-45b0-b065-067b866550c9",
   "metadata": {},
   "outputs": [],
   "source": [
    "# y_predicted"
   ]
  },
  {
   "cell_type": "code",
   "execution_count": null,
   "id": "9adfe89c-6117-4567-a86b-933d89b065e9",
   "metadata": {},
   "outputs": [],
   "source": [
    "# y_test"
   ]
  },
  {
   "cell_type": "code",
   "execution_count": null,
   "id": "7f8682cb-f347-49ba-abda-23d701851081",
   "metadata": {},
   "outputs": [],
   "source": [
    "plt.figure(figsize=(12, 6))\n",
    "plt.plot(y_test, 'b', label='Original Price')\n",
    "plt.plot(y_predicted, 'r', label='Predicted Price')\n",
    "plt.xlabel('Days')\n",
    "plt.ylabel('Price')\n",
    "plt.legend()"
   ]
  },
  {
   "cell_type": "code",
   "execution_count": null,
   "id": "78f7f7cc-de40-4e0a-8126-8f4afbb2f03c",
   "metadata": {},
   "outputs": [],
   "source": [
    "plt.figure(figsize=(12, 6))\n",
    "plt.plot(y_test, 'b', label='Original Price')\n",
    "plt.plot(y_predicted, 'r', label='Predicted Price')\n",
    "plt.xlabel('Days')\n",
    "plt.ylabel('Price')\n",
    "plt.legend()\n",
    "plt.xlim(450, 750)\n",
    "plt.ylim(140, 220)"
   ]
  },
  {
   "cell_type": "code",
   "execution_count": null,
   "id": "e7f14159-8716-418f-9218-4a243ed71a72",
   "metadata": {},
   "outputs": [],
   "source": []
  },
  {
   "cell_type": "markdown",
   "id": "8dc062ee-3f2c-4731-b8ff-fcf2d523c705",
   "metadata": {},
   "source": [
    "# 10. Model Evaluation"
   ]
  },
  {
   "cell_type": "code",
   "execution_count": null,
   "id": "9ce27081-2fca-4377-9f4d-2403ffe34dc6",
   "metadata": {},
   "outputs": [],
   "source": [
    "# Mean Squared Error (MSE)\n",
    "from sklearn.metrics import mean_squared_error, r2_score"
   ]
  },
  {
   "cell_type": "code",
   "execution_count": null,
   "id": "124f817e-9c29-4ff5-91a6-6f0d0a3f0e59",
   "metadata": {},
   "outputs": [],
   "source": [
    "mse = mean_squared_error(y_test, y_predicted)\n",
    "print(f\"Mean Squared Error (MSE): {mse}\")"
   ]
  },
  {
   "cell_type": "code",
   "execution_count": null,
   "id": "49db13d4-6209-48b4-91bc-2673c0260402",
   "metadata": {},
   "outputs": [],
   "source": []
  },
  {
   "cell_type": "code",
   "execution_count": null,
   "id": "0a2a9416-033d-44c5-81bb-547c6941842e",
   "metadata": {},
   "outputs": [],
   "source": [
    "# Root Mean Squared Error (RMSE)\n",
    "rmse = np.sqrt(mse)\n",
    "print(f\"Root Mean Squared Error (RMSE): {rmse}\")"
   ]
  },
  {
   "cell_type": "code",
   "execution_count": null,
   "id": "71a22243-9e2c-43c0-b520-1af0e548daef",
   "metadata": {},
   "outputs": [],
   "source": []
  },
  {
   "cell_type": "code",
   "execution_count": null,
   "id": "2f6c3d43-58c5-449f-9af8-52c0aba67a9a",
   "metadata": {},
   "outputs": [],
   "source": [
    "# R-Squared\n",
    "r2 = r2_score(y_test, y_predicted)\n",
    "print(f\"R-Squared: {r2}\")"
   ]
  },
  {
   "cell_type": "code",
   "execution_count": null,
   "id": "c7c075d2-ab4c-4788-9053-ed2ee8ebed26",
   "metadata": {},
   "outputs": [],
   "source": []
  }
 ],
 "metadata": {
  "kernelspec": {
   "display_name": "Python 3 (ipykernel)",
   "language": "python",
   "name": "python3"
  },
  "language_info": {
   "codemirror_mode": {
    "name": "ipython",
    "version": 3
   },
   "file_extension": ".py",
   "mimetype": "text/x-python",
   "name": "python",
   "nbconvert_exporter": "python",
   "pygments_lexer": "ipython3",
   "version": "3.10.16"
  }
 },
 "nbformat": 4,
 "nbformat_minor": 5
}
